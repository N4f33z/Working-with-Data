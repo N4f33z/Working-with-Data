{
  "nbformat": 4,
  "nbformat_minor": 0,
  "metadata": {
    "colab": {
      "name": "Thesis_JU.ipynb",
      "provenance": []
    },
    "kernelspec": {
      "name": "python3",
      "display_name": "Python 3"
    },
    "language_info": {
      "name": "python"
    }
  },
  "cells": [
    {
      "cell_type": "code",
      "source": [
        "!pip install praw"
      ],
      "metadata": {
        "colab": {
          "base_uri": "https://localhost:8080/"
        },
        "id": "4hy1ckef8FLX",
        "outputId": "bedfa1bd-8f3f-4278-b828-30947e2e7098"
      },
      "execution_count": null,
      "outputs": [
        {
          "output_type": "stream",
          "name": "stdout",
          "text": [
            "Collecting praw\n",
            "  Downloading praw-7.5.0-py3-none-any.whl (176 kB)\n",
            "\u001b[?25l\r\u001b[K     |█▉                              | 10 kB 23.1 MB/s eta 0:00:01\r\u001b[K     |███▊                            | 20 kB 9.9 MB/s eta 0:00:01\r\u001b[K     |█████▋                          | 30 kB 8.2 MB/s eta 0:00:01\r\u001b[K     |███████▍                        | 40 kB 7.6 MB/s eta 0:00:01\r\u001b[K     |█████████▎                      | 51 kB 5.3 MB/s eta 0:00:01\r\u001b[K     |███████████▏                    | 61 kB 5.5 MB/s eta 0:00:01\r\u001b[K     |█████████████                   | 71 kB 5.3 MB/s eta 0:00:01\r\u001b[K     |██████████████▉                 | 81 kB 5.9 MB/s eta 0:00:01\r\u001b[K     |████████████████▊               | 92 kB 5.9 MB/s eta 0:00:01\r\u001b[K     |██████████████████▋             | 102 kB 5.1 MB/s eta 0:00:01\r\u001b[K     |████████████████████▍           | 112 kB 5.1 MB/s eta 0:00:01\r\u001b[K     |██████████████████████▎         | 122 kB 5.1 MB/s eta 0:00:01\r\u001b[K     |████████████████████████▏       | 133 kB 5.1 MB/s eta 0:00:01\r\u001b[K     |██████████████████████████      | 143 kB 5.1 MB/s eta 0:00:01\r\u001b[K     |███████████████████████████▉    | 153 kB 5.1 MB/s eta 0:00:01\r\u001b[K     |█████████████████████████████▊  | 163 kB 5.1 MB/s eta 0:00:01\r\u001b[K     |███████████████████████████████▌| 174 kB 5.1 MB/s eta 0:00:01\r\u001b[K     |████████████████████████████████| 176 kB 5.1 MB/s \n",
            "\u001b[?25hCollecting update-checker>=0.18\n",
            "  Downloading update_checker-0.18.0-py3-none-any.whl (7.0 kB)\n",
            "Collecting websocket-client>=0.54.0\n",
            "  Downloading websocket_client-1.2.3-py3-none-any.whl (53 kB)\n",
            "\u001b[K     |████████████████████████████████| 53 kB 1.7 MB/s \n",
            "\u001b[?25hCollecting prawcore<3,>=2.1\n",
            "  Downloading prawcore-2.3.0-py3-none-any.whl (16 kB)\n",
            "Requirement already satisfied: requests<3.0,>=2.6.0 in /usr/local/lib/python3.7/dist-packages (from prawcore<3,>=2.1->praw) (2.23.0)\n",
            "Requirement already satisfied: idna<3,>=2.5 in /usr/local/lib/python3.7/dist-packages (from requests<3.0,>=2.6.0->prawcore<3,>=2.1->praw) (2.10)\n",
            "Requirement already satisfied: chardet<4,>=3.0.2 in /usr/local/lib/python3.7/dist-packages (from requests<3.0,>=2.6.0->prawcore<3,>=2.1->praw) (3.0.4)\n",
            "Requirement already satisfied: urllib3!=1.25.0,!=1.25.1,<1.26,>=1.21.1 in /usr/local/lib/python3.7/dist-packages (from requests<3.0,>=2.6.0->prawcore<3,>=2.1->praw) (1.24.3)\n",
            "Requirement already satisfied: certifi>=2017.4.17 in /usr/local/lib/python3.7/dist-packages (from requests<3.0,>=2.6.0->prawcore<3,>=2.1->praw) (2021.10.8)\n",
            "Installing collected packages: websocket-client, update-checker, prawcore, praw\n",
            "Successfully installed praw-7.5.0 prawcore-2.3.0 update-checker-0.18.0 websocket-client-1.2.3\n"
          ]
        }
      ]
    },
    {
      "cell_type": "code",
      "source": [
        "from IPython import display\n",
        "import math\n",
        "from pprint import pprint\n",
        "import pandas as pd\n",
        "import numpy as np\n",
        "import nltk\n",
        "nltk.download('vader_lexicon')\n",
        "nltk.download('stopwords')\n",
        "import matplotlib.pyplot as plt\n",
        "import seaborn as sns\n",
        "from nltk.sentiment.vader import SentimentIntensityAnalyzer as SIA\n",
        "sns.set(style='darkgrid', context='talk', palette='Dark2')\n",
        "from google.colab import files\n",
        "from nltk.tokenize import word_tokenize, RegexpTokenizer\n",
        "from wordcloud import WordCloud, STOPWORDS\n",
        "import praw\n",
        "import re\n",
        "from pprint import pprint\n",
        "import gensim\n",
        "import gensim.corpora as corpora\n",
        "from gensim.utils import simple_preprocess\n",
        "from gensim.models import CoherenceModel\n",
        "import spacy\n",
        "import json\n",
        "import logging\n",
        "logging.basicConfig(format='%(asctime)s : %(levelname)s : %(message)s', level=logging.ERROR)\n",
        "import warnings\n",
        "warnings.filterwarnings(\"ignore\",category=DeprecationWarning)\n",
        "from nltk.corpus import stopwords\n",
        "stop_words = stopwords.words('english')\n",
        "stop_words.extend(['from', 'subject', 're', 'edu', 'use'])"
      ],
      "metadata": {
        "colab": {
          "base_uri": "https://localhost:8080/"
        },
        "id": "goOsVk779PpA",
        "outputId": "8e003d0c-4f3f-4246-c772-7d6a77a45f71"
      },
      "execution_count": null,
      "outputs": [
        {
          "output_type": "stream",
          "name": "stdout",
          "text": [
            "[nltk_data] Downloading package vader_lexicon to /root/nltk_data...\n",
            "[nltk_data] Downloading package stopwords to /root/nltk_data...\n",
            "[nltk_data]   Unzipping corpora/stopwords.zip.\n"
          ]
        }
      ]
    },
    {
      "cell_type": "code",
      "source": [
        ""
      ],
      "metadata": {
        "id": "zM9q2CPa-HMx"
      },
      "execution_count": null,
      "outputs": []
    },
    {
      "cell_type": "code",
      "source": [
        "\n",
        "\n",
        " \n",
        "reddit_read_only = praw.Reddit(client_id=\"J0gXE5pbtclPDeubLZPOrw\",         # your client id\n",
        "                               client_secret=\"NgTwhememWQVzm7QM-pFF10taOt8xA\",      # your client secret\n",
        "                               user_agent=\"GrImPiL_Sama\")        # your user agent\n",
        " \n",
        " \n",
        "subreddit = reddit_read_only.subreddit(\"bangladesh\")"
      ],
      "metadata": {
        "id": "N33ykOCS4-Hc"
      },
      "execution_count": null,
      "outputs": []
    },
    {
      "cell_type": "code",
      "source": [
        "print(\"Title:\", subreddit.title)"
      ],
      "metadata": {
        "colab": {
          "base_uri": "https://localhost:8080/"
        },
        "id": "1N6V02vI8PLA",
        "outputId": "c99a93b5-e432-4fe1-867d-4ea6bda14e75"
      },
      "execution_count": null,
      "outputs": [
        {
          "output_type": "stream",
          "name": "stdout",
          "text": [
            "Title: Bangladesh\n"
          ]
        }
      ]
    },
    {
      "cell_type": "code",
      "source": [
        "posts = subreddit.top(\"month\")\n",
        "# Scraping the top posts of the current month\n",
        " \n",
        "posts_dict = {\"Title\": [], \"Post URL\": []}\n",
        " \n",
        "for post in posts:\n",
        "    # Title of each post\n",
        "    posts_dict[\"Title\"].append(post.title)\n",
        "     \n",
        "    posts_dict[\"Post URL\"].append(post.url)\n",
        " \n",
        "# Saving the data in a pandas dataframe\n",
        "top_posts = pd.DataFrame(posts_dict)\n",
        "top_posts"
      ],
      "metadata": {
        "id": "3vXpsiFx8RhS"
      },
      "execution_count": null,
      "outputs": []
    },
    {
      "cell_type": "code",
      "source": [
        "headlines = set()\n",
        "\n",
        "for submission in reddit_read_only.subreddit('bangladesh').new(limit=None):\n",
        "    headlines.add(submission.title)\n",
        "    display.clear_output()\n",
        "    print(len(headlines))"
      ],
      "metadata": {
        "colab": {
          "base_uri": "https://localhost:8080/"
        },
        "id": "WEzlDo4h8W6w",
        "outputId": "5c4b707e-ed85-48ca-dbdd-b69c0919e2f6"
      },
      "execution_count": null,
      "outputs": [
        {
          "output_type": "stream",
          "name": "stdout",
          "text": [
            "970\n"
          ]
        }
      ]
    },
    {
      "cell_type": "code",
      "source": [
        "sia = SIA()\n",
        "results = []\n",
        "\n",
        "for line in headlines:\n",
        "    pol_score = sia.polarity_scores(line)\n",
        "    pol_score['headline'] = line\n",
        "    results.append(pol_score)\n",
        "\n",
        "pprint(results[:3], width=100)"
      ],
      "metadata": {
        "colab": {
          "base_uri": "https://localhost:8080/"
        },
        "id": "p7wFRE7o8sug",
        "outputId": "41f2ab8d-eb60-4af4-db36-bd8e78b9b1b3"
      },
      "execution_count": null,
      "outputs": [
        {
          "output_type": "stream",
          "name": "stdout",
          "text": [
            "[{'compound': 0.1531,\n",
            "  'headline': 'Why you need to be careful about the use of the word – chetona/চেতনা',\n",
            "  'neg': 0.0,\n",
            "  'neu': 0.882,\n",
            "  'pos': 0.118},\n",
            " {'compound': 0.4201,\n",
            "  'headline': 'So I like this girl and how should I tell her?',\n",
            "  'neg': 0.0,\n",
            "  'neu': 0.741,\n",
            "  'pos': 0.259},\n",
            " {'compound': 0.0, 'headline': 'Career advice', 'neg': 0.0, 'neu': 1.0, 'pos': 0.0}]\n"
          ]
        }
      ]
    },
    {
      "cell_type": "code",
      "source": [
        "df = pd.DataFrame.from_records(results)\n",
        "df.head()"
      ],
      "metadata": {
        "colab": {
          "base_uri": "https://localhost:8080/",
          "height": 207
        },
        "id": "o-EQdc6y9Uj5",
        "outputId": "84be191f-0edc-4093-993c-ad16e36395ab"
      },
      "execution_count": null,
      "outputs": [
        {
          "output_type": "execute_result",
          "data": {
            "text/html": [
              "\n",
              "  <div id=\"df-6f651649-b51e-4017-91a9-937a0267b58d\">\n",
              "    <div class=\"colab-df-container\">\n",
              "      <div>\n",
              "<style scoped>\n",
              "    .dataframe tbody tr th:only-of-type {\n",
              "        vertical-align: middle;\n",
              "    }\n",
              "\n",
              "    .dataframe tbody tr th {\n",
              "        vertical-align: top;\n",
              "    }\n",
              "\n",
              "    .dataframe thead th {\n",
              "        text-align: right;\n",
              "    }\n",
              "</style>\n",
              "<table border=\"1\" class=\"dataframe\">\n",
              "  <thead>\n",
              "    <tr style=\"text-align: right;\">\n",
              "      <th></th>\n",
              "      <th>neg</th>\n",
              "      <th>neu</th>\n",
              "      <th>pos</th>\n",
              "      <th>compound</th>\n",
              "      <th>headline</th>\n",
              "    </tr>\n",
              "  </thead>\n",
              "  <tbody>\n",
              "    <tr>\n",
              "      <th>0</th>\n",
              "      <td>0.0</td>\n",
              "      <td>0.882</td>\n",
              "      <td>0.118</td>\n",
              "      <td>0.1531</td>\n",
              "      <td>Why you need to be careful about the use of th...</td>\n",
              "    </tr>\n",
              "    <tr>\n",
              "      <th>1</th>\n",
              "      <td>0.0</td>\n",
              "      <td>0.741</td>\n",
              "      <td>0.259</td>\n",
              "      <td>0.4201</td>\n",
              "      <td>So I like this girl and how should I tell her?</td>\n",
              "    </tr>\n",
              "    <tr>\n",
              "      <th>2</th>\n",
              "      <td>0.0</td>\n",
              "      <td>1.000</td>\n",
              "      <td>0.000</td>\n",
              "      <td>0.0000</td>\n",
              "      <td>Career advice</td>\n",
              "    </tr>\n",
              "    <tr>\n",
              "      <th>3</th>\n",
              "      <td>0.0</td>\n",
              "      <td>0.605</td>\n",
              "      <td>0.395</td>\n",
              "      <td>0.6785</td>\n",
              "      <td>A Very Happy Victory Day to Bangladesh From In...</td>\n",
              "    </tr>\n",
              "    <tr>\n",
              "      <th>4</th>\n",
              "      <td>0.0</td>\n",
              "      <td>0.654</td>\n",
              "      <td>0.346</td>\n",
              "      <td>0.5719</td>\n",
              "      <td>New Years Celebrated on the Hill at Srimongal</td>\n",
              "    </tr>\n",
              "  </tbody>\n",
              "</table>\n",
              "</div>\n",
              "      <button class=\"colab-df-convert\" onclick=\"convertToInteractive('df-6f651649-b51e-4017-91a9-937a0267b58d')\"\n",
              "              title=\"Convert this dataframe to an interactive table.\"\n",
              "              style=\"display:none;\">\n",
              "        \n",
              "  <svg xmlns=\"http://www.w3.org/2000/svg\" height=\"24px\"viewBox=\"0 0 24 24\"\n",
              "       width=\"24px\">\n",
              "    <path d=\"M0 0h24v24H0V0z\" fill=\"none\"/>\n",
              "    <path d=\"M18.56 5.44l.94 2.06.94-2.06 2.06-.94-2.06-.94-.94-2.06-.94 2.06-2.06.94zm-11 1L8.5 8.5l.94-2.06 2.06-.94-2.06-.94L8.5 2.5l-.94 2.06-2.06.94zm10 10l.94 2.06.94-2.06 2.06-.94-2.06-.94-.94-2.06-.94 2.06-2.06.94z\"/><path d=\"M17.41 7.96l-1.37-1.37c-.4-.4-.92-.59-1.43-.59-.52 0-1.04.2-1.43.59L10.3 9.45l-7.72 7.72c-.78.78-.78 2.05 0 2.83L4 21.41c.39.39.9.59 1.41.59.51 0 1.02-.2 1.41-.59l7.78-7.78 2.81-2.81c.8-.78.8-2.07 0-2.86zM5.41 20L4 18.59l7.72-7.72 1.47 1.35L5.41 20z\"/>\n",
              "  </svg>\n",
              "      </button>\n",
              "      \n",
              "  <style>\n",
              "    .colab-df-container {\n",
              "      display:flex;\n",
              "      flex-wrap:wrap;\n",
              "      gap: 12px;\n",
              "    }\n",
              "\n",
              "    .colab-df-convert {\n",
              "      background-color: #E8F0FE;\n",
              "      border: none;\n",
              "      border-radius: 50%;\n",
              "      cursor: pointer;\n",
              "      display: none;\n",
              "      fill: #1967D2;\n",
              "      height: 32px;\n",
              "      padding: 0 0 0 0;\n",
              "      width: 32px;\n",
              "    }\n",
              "\n",
              "    .colab-df-convert:hover {\n",
              "      background-color: #E2EBFA;\n",
              "      box-shadow: 0px 1px 2px rgba(60, 64, 67, 0.3), 0px 1px 3px 1px rgba(60, 64, 67, 0.15);\n",
              "      fill: #174EA6;\n",
              "    }\n",
              "\n",
              "    [theme=dark] .colab-df-convert {\n",
              "      background-color: #3B4455;\n",
              "      fill: #D2E3FC;\n",
              "    }\n",
              "\n",
              "    [theme=dark] .colab-df-convert:hover {\n",
              "      background-color: #434B5C;\n",
              "      box-shadow: 0px 1px 3px 1px rgba(0, 0, 0, 0.15);\n",
              "      filter: drop-shadow(0px 1px 2px rgba(0, 0, 0, 0.3));\n",
              "      fill: #FFFFFF;\n",
              "    }\n",
              "  </style>\n",
              "\n",
              "      <script>\n",
              "        const buttonEl =\n",
              "          document.querySelector('#df-6f651649-b51e-4017-91a9-937a0267b58d button.colab-df-convert');\n",
              "        buttonEl.style.display =\n",
              "          google.colab.kernel.accessAllowed ? 'block' : 'none';\n",
              "\n",
              "        async function convertToInteractive(key) {\n",
              "          const element = document.querySelector('#df-6f651649-b51e-4017-91a9-937a0267b58d');\n",
              "          const dataTable =\n",
              "            await google.colab.kernel.invokeFunction('convertToInteractive',\n",
              "                                                     [key], {});\n",
              "          if (!dataTable) return;\n",
              "\n",
              "          const docLinkHtml = 'Like what you see? Visit the ' +\n",
              "            '<a target=\"_blank\" href=https://colab.research.google.com/notebooks/data_table.ipynb>data table notebook</a>'\n",
              "            + ' to learn more about interactive tables.';\n",
              "          element.innerHTML = '';\n",
              "          dataTable['output_type'] = 'display_data';\n",
              "          await google.colab.output.renderOutput(dataTable, element);\n",
              "          const docLink = document.createElement('div');\n",
              "          docLink.innerHTML = docLinkHtml;\n",
              "          element.appendChild(docLink);\n",
              "        }\n",
              "      </script>\n",
              "    </div>\n",
              "  </div>\n",
              "  "
            ],
            "text/plain": [
              "   neg    neu  ...  compound                                           headline\n",
              "0  0.0  0.882  ...    0.1531  Why you need to be careful about the use of th...\n",
              "1  0.0  0.741  ...    0.4201     So I like this girl and how should I tell her?\n",
              "2  0.0  1.000  ...    0.0000                                      Career advice\n",
              "3  0.0  0.605  ...    0.6785  A Very Happy Victory Day to Bangladesh From In...\n",
              "4  0.0  0.654  ...    0.5719      New Years Celebrated on the Hill at Srimongal\n",
              "\n",
              "[5 rows x 5 columns]"
            ]
          },
          "metadata": {},
          "execution_count": 12
        }
      ]
    },
    {
      "cell_type": "code",
      "source": [
        "df['label'] = 0\n",
        "df.loc[df['compound'] > 0.2, 'label'] = 1\n",
        "df.loc[df['compound'] < -0.2, 'label'] = -1\n",
        "df.head()"
      ],
      "metadata": {
        "colab": {
          "base_uri": "https://localhost:8080/",
          "height": 207
        },
        "id": "DPAdxWjN9jZr",
        "outputId": "dc9bf1af-d7e1-4870-fc90-173631f550b4"
      },
      "execution_count": null,
      "outputs": [
        {
          "output_type": "execute_result",
          "data": {
            "text/html": [
              "\n",
              "  <div id=\"df-3941e9d4-2988-4a38-8f47-f03e2286d601\">\n",
              "    <div class=\"colab-df-container\">\n",
              "      <div>\n",
              "<style scoped>\n",
              "    .dataframe tbody tr th:only-of-type {\n",
              "        vertical-align: middle;\n",
              "    }\n",
              "\n",
              "    .dataframe tbody tr th {\n",
              "        vertical-align: top;\n",
              "    }\n",
              "\n",
              "    .dataframe thead th {\n",
              "        text-align: right;\n",
              "    }\n",
              "</style>\n",
              "<table border=\"1\" class=\"dataframe\">\n",
              "  <thead>\n",
              "    <tr style=\"text-align: right;\">\n",
              "      <th></th>\n",
              "      <th>neg</th>\n",
              "      <th>neu</th>\n",
              "      <th>pos</th>\n",
              "      <th>compound</th>\n",
              "      <th>headline</th>\n",
              "      <th>label</th>\n",
              "    </tr>\n",
              "  </thead>\n",
              "  <tbody>\n",
              "    <tr>\n",
              "      <th>0</th>\n",
              "      <td>0.0</td>\n",
              "      <td>0.882</td>\n",
              "      <td>0.118</td>\n",
              "      <td>0.1531</td>\n",
              "      <td>Why you need to be careful about the use of th...</td>\n",
              "      <td>0</td>\n",
              "    </tr>\n",
              "    <tr>\n",
              "      <th>1</th>\n",
              "      <td>0.0</td>\n",
              "      <td>0.741</td>\n",
              "      <td>0.259</td>\n",
              "      <td>0.4201</td>\n",
              "      <td>So I like this girl and how should I tell her?</td>\n",
              "      <td>1</td>\n",
              "    </tr>\n",
              "    <tr>\n",
              "      <th>2</th>\n",
              "      <td>0.0</td>\n",
              "      <td>1.000</td>\n",
              "      <td>0.000</td>\n",
              "      <td>0.0000</td>\n",
              "      <td>Career advice</td>\n",
              "      <td>0</td>\n",
              "    </tr>\n",
              "    <tr>\n",
              "      <th>3</th>\n",
              "      <td>0.0</td>\n",
              "      <td>0.605</td>\n",
              "      <td>0.395</td>\n",
              "      <td>0.6785</td>\n",
              "      <td>A Very Happy Victory Day to Bangladesh From In...</td>\n",
              "      <td>1</td>\n",
              "    </tr>\n",
              "    <tr>\n",
              "      <th>4</th>\n",
              "      <td>0.0</td>\n",
              "      <td>0.654</td>\n",
              "      <td>0.346</td>\n",
              "      <td>0.5719</td>\n",
              "      <td>New Years Celebrated on the Hill at Srimongal</td>\n",
              "      <td>1</td>\n",
              "    </tr>\n",
              "  </tbody>\n",
              "</table>\n",
              "</div>\n",
              "      <button class=\"colab-df-convert\" onclick=\"convertToInteractive('df-3941e9d4-2988-4a38-8f47-f03e2286d601')\"\n",
              "              title=\"Convert this dataframe to an interactive table.\"\n",
              "              style=\"display:none;\">\n",
              "        \n",
              "  <svg xmlns=\"http://www.w3.org/2000/svg\" height=\"24px\"viewBox=\"0 0 24 24\"\n",
              "       width=\"24px\">\n",
              "    <path d=\"M0 0h24v24H0V0z\" fill=\"none\"/>\n",
              "    <path d=\"M18.56 5.44l.94 2.06.94-2.06 2.06-.94-2.06-.94-.94-2.06-.94 2.06-2.06.94zm-11 1L8.5 8.5l.94-2.06 2.06-.94-2.06-.94L8.5 2.5l-.94 2.06-2.06.94zm10 10l.94 2.06.94-2.06 2.06-.94-2.06-.94-.94-2.06-.94 2.06-2.06.94z\"/><path d=\"M17.41 7.96l-1.37-1.37c-.4-.4-.92-.59-1.43-.59-.52 0-1.04.2-1.43.59L10.3 9.45l-7.72 7.72c-.78.78-.78 2.05 0 2.83L4 21.41c.39.39.9.59 1.41.59.51 0 1.02-.2 1.41-.59l7.78-7.78 2.81-2.81c.8-.78.8-2.07 0-2.86zM5.41 20L4 18.59l7.72-7.72 1.47 1.35L5.41 20z\"/>\n",
              "  </svg>\n",
              "      </button>\n",
              "      \n",
              "  <style>\n",
              "    .colab-df-container {\n",
              "      display:flex;\n",
              "      flex-wrap:wrap;\n",
              "      gap: 12px;\n",
              "    }\n",
              "\n",
              "    .colab-df-convert {\n",
              "      background-color: #E8F0FE;\n",
              "      border: none;\n",
              "      border-radius: 50%;\n",
              "      cursor: pointer;\n",
              "      display: none;\n",
              "      fill: #1967D2;\n",
              "      height: 32px;\n",
              "      padding: 0 0 0 0;\n",
              "      width: 32px;\n",
              "    }\n",
              "\n",
              "    .colab-df-convert:hover {\n",
              "      background-color: #E2EBFA;\n",
              "      box-shadow: 0px 1px 2px rgba(60, 64, 67, 0.3), 0px 1px 3px 1px rgba(60, 64, 67, 0.15);\n",
              "      fill: #174EA6;\n",
              "    }\n",
              "\n",
              "    [theme=dark] .colab-df-convert {\n",
              "      background-color: #3B4455;\n",
              "      fill: #D2E3FC;\n",
              "    }\n",
              "\n",
              "    [theme=dark] .colab-df-convert:hover {\n",
              "      background-color: #434B5C;\n",
              "      box-shadow: 0px 1px 3px 1px rgba(0, 0, 0, 0.15);\n",
              "      filter: drop-shadow(0px 1px 2px rgba(0, 0, 0, 0.3));\n",
              "      fill: #FFFFFF;\n",
              "    }\n",
              "  </style>\n",
              "\n",
              "      <script>\n",
              "        const buttonEl =\n",
              "          document.querySelector('#df-3941e9d4-2988-4a38-8f47-f03e2286d601 button.colab-df-convert');\n",
              "        buttonEl.style.display =\n",
              "          google.colab.kernel.accessAllowed ? 'block' : 'none';\n",
              "\n",
              "        async function convertToInteractive(key) {\n",
              "          const element = document.querySelector('#df-3941e9d4-2988-4a38-8f47-f03e2286d601');\n",
              "          const dataTable =\n",
              "            await google.colab.kernel.invokeFunction('convertToInteractive',\n",
              "                                                     [key], {});\n",
              "          if (!dataTable) return;\n",
              "\n",
              "          const docLinkHtml = 'Like what you see? Visit the ' +\n",
              "            '<a target=\"_blank\" href=https://colab.research.google.com/notebooks/data_table.ipynb>data table notebook</a>'\n",
              "            + ' to learn more about interactive tables.';\n",
              "          element.innerHTML = '';\n",
              "          dataTable['output_type'] = 'display_data';\n",
              "          await google.colab.output.renderOutput(dataTable, element);\n",
              "          const docLink = document.createElement('div');\n",
              "          docLink.innerHTML = docLinkHtml;\n",
              "          element.appendChild(docLink);\n",
              "        }\n",
              "      </script>\n",
              "    </div>\n",
              "  </div>\n",
              "  "
            ],
            "text/plain": [
              "   neg    neu  ...                                           headline  label\n",
              "0  0.0  0.882  ...  Why you need to be careful about the use of th...      0\n",
              "1  0.0  0.741  ...     So I like this girl and how should I tell her?      1\n",
              "2  0.0  1.000  ...                                      Career advice      0\n",
              "3  0.0  0.605  ...  A Very Happy Victory Day to Bangladesh From In...      1\n",
              "4  0.0  0.654  ...      New Years Celebrated on the Hill at Srimongal      1\n",
              "\n",
              "[5 rows x 6 columns]"
            ]
          },
          "metadata": {},
          "execution_count": 13
        }
      ]
    },
    {
      "cell_type": "code",
      "source": [
        "df2 = df[['headline', 'label']]\n",
        "df2.to_csv('reddit_headlines_labels.csv', mode='a', encoding='utf-8', index=False)"
      ],
      "metadata": {
        "id": "S5d1UUvo9rlS"
      },
      "execution_count": null,
      "outputs": []
    },
    {
      "cell_type": "code",
      "source": [
        "files.download('reddit_headlines_labels.csv')"
      ],
      "metadata": {
        "colab": {
          "base_uri": "https://localhost:8080/",
          "height": 16
        },
        "id": "MWxMT-Ph9wxA",
        "outputId": "85d79030-7f44-4bf0-90ce-ef192f9ffe5f"
      },
      "execution_count": null,
      "outputs": [
        {
          "output_type": "display_data",
          "data": {
            "application/javascript": [
              "\n",
              "    async function download(id, filename, size) {\n",
              "      if (!google.colab.kernel.accessAllowed) {\n",
              "        return;\n",
              "      }\n",
              "      const div = document.createElement('div');\n",
              "      const label = document.createElement('label');\n",
              "      label.textContent = `Downloading \"${filename}\": `;\n",
              "      div.appendChild(label);\n",
              "      const progress = document.createElement('progress');\n",
              "      progress.max = size;\n",
              "      div.appendChild(progress);\n",
              "      document.body.appendChild(div);\n",
              "\n",
              "      const buffers = [];\n",
              "      let downloaded = 0;\n",
              "\n",
              "      const channel = await google.colab.kernel.comms.open(id);\n",
              "      // Send a message to notify the kernel that we're ready.\n",
              "      channel.send({})\n",
              "\n",
              "      for await (const message of channel.messages) {\n",
              "        // Send a message to notify the kernel that we're ready.\n",
              "        channel.send({})\n",
              "        if (message.buffers) {\n",
              "          for (const buffer of message.buffers) {\n",
              "            buffers.push(buffer);\n",
              "            downloaded += buffer.byteLength;\n",
              "            progress.value = downloaded;\n",
              "          }\n",
              "        }\n",
              "      }\n",
              "      const blob = new Blob(buffers, {type: 'application/binary'});\n",
              "      const a = document.createElement('a');\n",
              "      a.href = window.URL.createObjectURL(blob);\n",
              "      a.download = filename;\n",
              "      div.appendChild(a);\n",
              "      a.click();\n",
              "      div.remove();\n",
              "    }\n",
              "  "
            ],
            "text/plain": [
              "<IPython.core.display.Javascript object>"
            ]
          },
          "metadata": {}
        },
        {
          "output_type": "display_data",
          "data": {
            "application/javascript": [
              "download(\"download_0194e075-77b2-43d2-a7bf-d313066724b0\", \"reddit_headlines_labels.csv\", 83890)"
            ],
            "text/plain": [
              "<IPython.core.display.Javascript object>"
            ]
          },
          "metadata": {}
        }
      ]
    },
    {
      "cell_type": "code",
      "source": [
        "print(\"Positive headlines:\\n\")\n",
        "pprint(list(df[df['label'] == 1].headline)[:5], width=200)\n",
        "\n",
        "print(\"\\nNegative headlines:\\n\")\n",
        "pprint(list(df[df['label'] == -1].headline)[:5], width=200)"
      ],
      "metadata": {
        "colab": {
          "base_uri": "https://localhost:8080/"
        },
        "id": "F7TNsxvr972h",
        "outputId": "76286f94-7f5c-4d85-b011-13162b8c0984"
      },
      "execution_count": null,
      "outputs": [
        {
          "output_type": "stream",
          "name": "stdout",
          "text": [
            "Positive headlines:\n",
            "\n",
            "['So I like this girl and how should I tell her?',\n",
            " 'A Very Happy Victory Day to Bangladesh From India!!',\n",
            " 'New Years Celebrated on the Hill at Srimongal',\n",
            " 'Should Khaleda Zia be allowed for better treatment abroad?',\n",
            " 'How are we even surviving?']\n",
            "\n",
            "Negative headlines:\n",
            "\n",
            "['এত বিষণ্ণতা, এত chaos, সব একদিন ঠিক হয়ে যাবে তাই না?',\n",
            " 'Should Bangladesh Still Keep Death Penalty?',\n",
            " 'Interview of some survivors of the genocidal killings in Boroitola, Kishoreganj',\n",
            " 'Where is the discord server link?',\n",
            " 'Worst Rumor You Spread In Your School']\n"
          ]
        }
      ]
    },
    {
      "cell_type": "code",
      "source": [
        "print(df.label.value_counts())\n",
        "\n",
        "print(df.label.value_counts(normalize=True) * 100)"
      ],
      "metadata": {
        "colab": {
          "base_uri": "https://localhost:8080/"
        },
        "id": "uGNkpgoy-baE",
        "outputId": "96aad918-d047-4d58-98c5-b2a3de874837"
      },
      "execution_count": null,
      "outputs": [
        {
          "output_type": "stream",
          "name": "stdout",
          "text": [
            " 0    618\n",
            " 1    227\n",
            "-1    125\n",
            "Name: label, dtype: int64\n",
            " 0    63.711340\n",
            " 1    23.402062\n",
            "-1    12.886598\n",
            "Name: label, dtype: float64\n"
          ]
        }
      ]
    },
    {
      "cell_type": "code",
      "source": [
        "fig, ax = plt.subplots(figsize=(8, 8))\n",
        "\n",
        "counts = df.label.value_counts(normalize=True) * 100\n",
        "\n",
        "sns.barplot(x=counts.index, y=counts, ax=ax)\n",
        "\n",
        "ax.set_xticklabels(['Negative', 'Neutral', 'Positive'])\n",
        "ax.set_ylabel(\"Percentage\")\n",
        "\n",
        "plt.show()"
      ],
      "metadata": {
        "colab": {
          "base_uri": "https://localhost:8080/",
          "height": 496
        },
        "id": "OJy727iW-lio",
        "outputId": "01c98d24-c725-4485-ae28-8be208cde169"
      },
      "execution_count": null,
      "outputs": [
        {
          "output_type": "display_data",
          "data": {
            "image/png": "[encoded data removed]",
            "text/plain": [
              "<Figure size 576x576 with 1 Axes>"
            ]
          },
          "metadata": {
            "needs_background": "light"
          }
        }
      ]
    },
    {
      "cell_type": "code",
      "source": [
        ""
      ],
      "metadata": {
        "id": "Sj_VnFXu-vKu"
      },
      "execution_count": null,
      "outputs": []
    },
    {
      "cell_type": "code",
      "source": [
        "tokenizer = RegexpTokenizer(r'\\w+')\n",
        "from nltk.corpus import stopwords\n",
        "\n",
        "stop_words = stopwords.words('english')"
      ],
      "metadata": {
        "id": "eTmgO-w3_A2o"
      },
      "execution_count": null,
      "outputs": []
    },
    {
      "cell_type": "code",
      "source": [
        "def process_text(headlines):\n",
        "    tokens = []\n",
        "    for line in headlines:\n",
        "        toks = tokenizer.tokenize(line)\n",
        "        toks = [t.lower() for t in toks if t.lower() not in stop_words]\n",
        "        tokens.extend(toks)\n",
        "    \n",
        "    return tokens"
      ],
      "metadata": {
        "id": "lqwQHhjR_Bgs"
      },
      "execution_count": null,
      "outputs": []
    },
    {
      "cell_type": "code",
      "source": [
        "pos_lines = list(df[df.label == 1].headline)\n",
        "\n",
        "pos_tokens = process_text(pos_lines)\n",
        "pos_freq = nltk.FreqDist(pos_tokens)\n",
        "\n",
        "pos_freq.most_common(20)"
      ],
      "metadata": {
        "colab": {
          "base_uri": "https://localhost:8080/"
        },
        "id": "oQSNcRmqJPF_",
        "outputId": "7ca9a6ef-2232-4ce9-d717-1fa342f45399"
      },
      "execution_count": null,
      "outputs": [
        {
          "output_type": "execute_result",
          "data": {
            "text/plain": [
              "[('bangladesh', 57),\n",
              " ('best', 21),\n",
              " ('dhaka', 19),\n",
              " ('good', 17),\n",
              " ('help', 16),\n",
              " ('bangladeshi', 15),\n",
              " ('would', 12),\n",
              " ('bangla', 12),\n",
              " ('like', 11),\n",
              " ('happy', 10),\n",
              " ('way', 10),\n",
              " ('anyone', 10),\n",
              " ('new', 9),\n",
              " ('country', 8),\n",
              " ('one', 8),\n",
              " ('bengali', 8),\n",
              " ('র', 8),\n",
              " ('india', 7),\n",
              " ('please', 7),\n",
              " ('need', 7)]"
            ]
          },
          "metadata": {},
          "execution_count": 34
        }
      ]
    },
    {
      "cell_type": "code",
      "source": [
        "pos_tokens"
      ],
      "metadata": {
        "id": "6wdzddMGJRRR"
      },
      "execution_count": null,
      "outputs": []
    },
    {
      "cell_type": "code",
      "source": [
        "y_val = [x[1] for x in pos_freq.most_common()]\n",
        "\n",
        "fig = plt.figure(figsize=(10,5))\n",
        "plt.plot(y_val)\n",
        "\n",
        "plt.xlabel(\"Words\")\n",
        "plt.ylabel(\"Frequency\")\n",
        "plt.title(\"Word Frequency Distribution (Positive)\")\n",
        "plt.show()"
      ],
      "metadata": {
        "colab": {
          "base_uri": "https://localhost:8080/",
          "height": 375
        },
        "id": "gzGgYRSqJZwy",
        "outputId": "9676590e-690c-4915-b2dc-db91f0f3877d"
      },
      "execution_count": null,
      "outputs": [
        {
          "output_type": "display_data",
          "data": {
            "image/png": "[encoded data removed]",
            "text/plain": [
              "<Figure size 720x360 with 1 Axes>"
            ]
          },
          "metadata": {
            "needs_background": "light"
          }
        }
      ]
    },
    {
      "cell_type": "code",
      "source": [
        "#The above chart is showing the frequency patterns, where the y-axis is the frequency of the words and in x-axis is the words ranked by their frequency.\n",
        "# So, the most frequent word, which in our case is ‘trump’, is plotted at ."
      ],
      "metadata": {
        "id": "03ku0FKrJiq6"
      },
      "execution_count": null,
      "outputs": []
    },
    {
      "cell_type": "code",
      "source": [
        "neg_lines = list(df2[df2.label == -1].headline)\n",
        "\n",
        "neg_tokens = process_text(neg_lines)\n",
        "neg_freq = nltk.FreqDist(neg_tokens)\n",
        "\n",
        "neg_freq.most_common(20)"
      ],
      "metadata": {
        "colab": {
          "base_uri": "https://localhost:8080/"
        },
        "id": "wLrz6vk6K1WH",
        "outputId": "41ee4c06-254f-4d46-ae42-6961f4e05a59"
      },
      "execution_count": null,
      "outputs": [
        {
          "output_type": "execute_result",
          "data": {
            "text/plain": [
              "[('bangladesh', 29),\n",
              " ('bangladeshi', 11),\n",
              " ('people', 10),\n",
              " ('war', 9),\n",
              " ('fire', 7),\n",
              " ('bus', 6),\n",
              " ('ব', 5),\n",
              " ('liberation', 5),\n",
              " ('dhaka', 5),\n",
              " ('us', 5),\n",
              " ('ferry', 5),\n",
              " ('law', 5),\n",
              " ('ত', 4),\n",
              " ('death', 4),\n",
              " ('human', 4),\n",
              " ('security', 4),\n",
              " ('killed', 4),\n",
              " ('next', 4),\n",
              " ('go', 4),\n",
              " ('year', 4)]"
            ]
          },
          "metadata": {},
          "execution_count": 37
        }
      ]
    },
    {
      "cell_type": "code",
      "source": [
        "y_val = [x[1] for x in neg_freq.most_common()]\n",
        "\n",
        "fig = plt.figure(figsize=(10,5))\n",
        "plt.plot(y_val)\n",
        "\n",
        "plt.xlabel(\"Words\")\n",
        "plt.ylabel(\"Frequency\")\n",
        "plt.title(\"Word Frequency Distribution (Negative)\")\n",
        "plt.show()"
      ],
      "metadata": {
        "colab": {
          "base_uri": "https://localhost:8080/",
          "height": 375
        },
        "id": "HdMAo-1ILFQv",
        "outputId": "32dacbf0-be23-4d29-8fcd-3d514d927e5a"
      },
      "execution_count": null,
      "outputs": [
        {
          "output_type": "display_data",
          "data": {
            "image/png": "[encoded data removed]",
            "text/plain": [
              "<Figure size 720x360 with 1 Axes>"
            ]
          },
          "metadata": {
            "needs_background": "light"
          }
        }
      ]
    },
    {
      "cell_type": "code",
      "source": [
        "\n",
        "#comment_words = ''\n",
        "stopwords = set(STOPWORDS)\n",
        "\n",
        "wordcloud = WordCloud(width=800, height=800,\n",
        "                      background_color='white',\n",
        "                      stopwords=stopwords,\n",
        "                      min_font_size=10).generate(pos_tokens)\n",
        "\n",
        "# plot the WordCloud image\n",
        "plt.figure(figsize=(8, 8), facecolor=None)\n",
        "plt.imshow(wordcloud)\n",
        "plt.axis(\"off\")\n",
        "plt.tight_layout(pad=0)\n",
        "\n",
        "plt.show()"
      ],
      "metadata": {
        "id": "Y7gUxnPbLPp6"
      },
      "execution_count": null,
      "outputs": []
    },
    {
      "cell_type": "code",
      "source": [
        "from collections import Counter\n",
        "word_could_dict=Counter(pos_tokens)\n",
        "wordcloud = WordCloud(width = 1000, height = 500).generate_from_frequencies(word_could_dict)\n",
        "\n",
        "plt.figure(figsize=(15,8))\n",
        "plt.imshow(wordcloud)\n",
        "plt.axis(\"off\")\n",
        "#plt.show()\n",
        "plt.savefig('Negative Words.png', bbox_inches='tight')\n",
        "plt.close()"
      ],
      "metadata": {
        "id": "lEtaG5n4NrwC"
      },
      "execution_count": null,
      "outputs": []
    },
    {
      "cell_type": "code",
      "source": [
        "files.download('Negative Words.png')"
      ],
      "metadata": {
        "colab": {
          "base_uri": "https://localhost:8080/",
          "height": 16
        },
        "id": "3P8JuhNuPCUs",
        "outputId": "4303b9df-d834-41eb-9337-2d525956c05f"
      },
      "execution_count": null,
      "outputs": [
        {
          "output_type": "display_data",
          "data": {
            "application/javascript": [
              "\n",
              "    async function download(id, filename, size) {\n",
              "      if (!google.colab.kernel.accessAllowed) {\n",
              "        return;\n",
              "      }\n",
              "      const div = document.createElement('div');\n",
              "      const label = document.createElement('label');\n",
              "      label.textContent = `Downloading \"${filename}\": `;\n",
              "      div.appendChild(label);\n",
              "      const progress = document.createElement('progress');\n",
              "      progress.max = size;\n",
              "      div.appendChild(progress);\n",
              "      document.body.appendChild(div);\n",
              "\n",
              "      const buffers = [];\n",
              "      let downloaded = 0;\n",
              "\n",
              "      const channel = await google.colab.kernel.comms.open(id);\n",
              "      // Send a message to notify the kernel that we're ready.\n",
              "      channel.send({})\n",
              "\n",
              "      for await (const message of channel.messages) {\n",
              "        // Send a message to notify the kernel that we're ready.\n",
              "        channel.send({})\n",
              "        if (message.buffers) {\n",
              "          for (const buffer of message.buffers) {\n",
              "            buffers.push(buffer);\n",
              "            downloaded += buffer.byteLength;\n",
              "            progress.value = downloaded;\n",
              "          }\n",
              "        }\n",
              "      }\n",
              "      const blob = new Blob(buffers, {type: 'application/binary'});\n",
              "      const a = document.createElement('a');\n",
              "      a.href = window.URL.createObjectURL(blob);\n",
              "      a.download = filename;\n",
              "      div.appendChild(a);\n",
              "      a.click();\n",
              "      div.remove();\n",
              "    }\n",
              "  "
            ],
            "text/plain": [
              "<IPython.core.display.Javascript object>"
            ]
          },
          "metadata": {}
        },
        {
          "output_type": "display_data",
          "data": {
            "application/javascript": [
              "download(\"download_7975ffa8-351a-4eec-adc5-21db5c1041cd\", \"Negative Words.png\", 290289)"
            ],
            "text/plain": [
              "<IPython.core.display.Javascript object>"
            ]
          },
          "metadata": {}
        }
      ]
    },
    {
      "cell_type": "code",
      "source": [
        ""
      ],
      "metadata": {
        "id": "6w5rXGH0PQtd"
      },
      "execution_count": null,
      "outputs": []
    }
  ]
}