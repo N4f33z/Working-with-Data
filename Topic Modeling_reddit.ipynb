{
  "nbformat": 4,
  "nbformat_minor": 0,
  "metadata": {
    "colab": {
      "name": "reddit.ipynb",
      "provenance": []
    },
    "kernelspec": {
      "name": "python3",
      "display_name": "Python 3"
    },
    "language_info": {
      "name": "python"
    },
    "accelerator": "GPU"
  },
  "cells": [
    {
      "cell_type": "code",
      "execution_count": 1,
      "metadata": {
        "colab": {
          "base_uri": "https://localhost:8080/"
        },
        "id": "7ViVsWK80hMq",
        "outputId": "30d8a831-1f52-4274-f140-80a177776d50"
      },
      "outputs": [
        {
          "output_type": "stream",
          "name": "stdout",
          "text": [
            "Requirement already satisfied: praw in /usr/local/lib/python3.7/dist-packages (7.5.0)\n",
            "Requirement already satisfied: prawcore<3,>=2.1 in /usr/local/lib/python3.7/dist-packages (from praw) (2.3.0)\n",
            "Requirement already satisfied: update-checker>=0.18 in /usr/local/lib/python3.7/dist-packages (from praw) (0.18.0)\n",
            "Requirement already satisfied: websocket-client>=0.54.0 in /usr/local/lib/python3.7/dist-packages (from praw) (1.2.3)\n",
            "Requirement already satisfied: requests<3.0,>=2.6.0 in /usr/local/lib/python3.7/dist-packages (from prawcore<3,>=2.1->praw) (2.23.0)\n",
            "Requirement already satisfied: urllib3!=1.25.0,!=1.25.1,<1.26,>=1.21.1 in /usr/local/lib/python3.7/dist-packages (from requests<3.0,>=2.6.0->prawcore<3,>=2.1->praw) (1.24.3)\n",
            "Requirement already satisfied: chardet<4,>=3.0.2 in /usr/local/lib/python3.7/dist-packages (from requests<3.0,>=2.6.0->prawcore<3,>=2.1->praw) (3.0.4)\n",
            "Requirement already satisfied: idna<3,>=2.5 in /usr/local/lib/python3.7/dist-packages (from requests<3.0,>=2.6.0->prawcore<3,>=2.1->praw) (2.10)\n",
            "Requirement already satisfied: certifi>=2017.4.17 in /usr/local/lib/python3.7/dist-packages (from requests<3.0,>=2.6.0->prawcore<3,>=2.1->praw) (2021.10.8)\n"
          ]
        }
      ],
      "source": [
        "!pip install praw"
      ]
    },
    {
      "cell_type": "code",
      "source": [
        "from praw.models import MoreComments\n",
        "from IPython import display\n",
        "import math\n",
        "from pprint import pprint\n",
        "import pandas as pd\n",
        "import numpy as np\n",
        "import nltk\n",
        "nltk.download('vader_lexicon')\n",
        "nltk.download('stopwords')\n",
        "import matplotlib.pyplot as plt\n",
        "import seaborn as sns\n",
        "from nltk.sentiment.vader import SentimentIntensityAnalyzer as SIA\n",
        "sns.set(style='darkgrid', context='talk', palette='Dark2')\n",
        "from google.colab import files\n",
        "from nltk.tokenize import word_tokenize, RegexpTokenizer\n",
        "from wordcloud import WordCloud, STOPWORDS\n",
        "import praw\n",
        "import re\n",
        "from pprint import pprint\n",
        "import gensim\n",
        "import gensim.corpora as corpora\n",
        "from gensim.utils import simple_preprocess\n",
        "from gensim.models import CoherenceModel\n",
        "import spacy\n",
        "import json\n",
        "import logging\n",
        "logging.basicConfig(format='%(asctime)s : %(levelname)s : %(message)s', level=logging.ERROR)\n",
        "import warnings\n",
        "warnings.filterwarnings(\"ignore\",category=DeprecationWarning)\n",
        "from nltk.corpus import stopwords\n",
        "stop_words = stopwords.words('english')\n",
        "stop_words.extend(['from', 'subject', 're', 'edu', 'use'])"
      ],
      "metadata": {
        "id": "0S_Bh3T5Q6pb",
        "colab": {
          "base_uri": "https://localhost:8080/"
        },
        "outputId": "9fc1d672-45c8-4bfd-c8f6-16f2fc906900"
      },
      "execution_count": 2,
      "outputs": [
        {
          "output_type": "stream",
          "name": "stdout",
          "text": [
            "[nltk_data] Downloading package vader_lexicon to /root/nltk_data...\n",
            "[nltk_data]   Package vader_lexicon is already up-to-date!\n",
            "[nltk_data] Downloading package stopwords to /root/nltk_data...\n",
            "[nltk_data]   Package stopwords is already up-to-date!\n"
          ]
        },
        {
          "output_type": "stream",
          "name": "stderr",
          "text": [
            "/usr/local/lib/python3.7/dist-packages/nltk/twitter/__init__.py:20: UserWarning: The twython library has not been installed. Some functionality from the twitter package will not be available.\n",
            "  warnings.warn(\"The twython library has not been installed. \"\n"
          ]
        }
      ]
    },
    {
      "cell_type": "code",
      "source": [
        "import praw\n",
        "import pandas as pd\n",
        " \n",
        "reddit_read_only = praw.Reddit(client_id=\"J0gXE5pbtclPDeubLZPOrw\",         # your client id\n",
        "                               client_secret=\"NgTwhememWQVzm7QM-pFF10taOt8xA\",      # your client secret\n",
        "                               user_agent=\"GrImPiL_Sama\")        # your user agent\n",
        " \n",
        " \n",
        "subreddit = reddit_read_only.subreddit(\"bangladesh\")\n",
        " \n",
        "# Display the name of the Subreddit\n",
        "print(\"Display Name:\", subreddit.display_name)\n",
        " \n",
        "# Display the title of the Subreddit\n",
        "print(\"Title:\", subreddit.title)\n",
        " \n",
        "# Display the description of the Subreddit\n",
        "print(\"Description:\", subreddit.description)"
      ],
      "metadata": {
        "id": "v8YXKxhi0m2U",
        "colab": {
          "base_uri": "https://localhost:8080/"
        },
        "outputId": "ceec7e66-837e-4a16-a249-8b26f744b168"
      },
      "execution_count": null,
      "outputs": [
        {
          "output_type": "stream",
          "name": "stdout",
          "text": [
            "Display Name: bangladesh\n",
            "Title: Bangladesh\n",
            "Description: >[Join the /r/Bangladesh Discord!](https://discord.gg/kqsr8MM)\n",
            "\n",
            "####[Join the #RebootBangladesh Discord!](https://discord.gg/gsPU2JU)\n",
            "\n",
            "#### Rules\n",
            "\n",
            "* Follow [reddiquette.](http://www.reddit.com/wiki/reddiquette)\n",
            "* Be courteous.\n",
            "* Don't spam.\n",
            "* Don't self-promote without any subreddit contribution.\n",
            "* Flair and add source for your post.\n",
            "* You should have at least 5 karma in order to submit a post. Otherwise, it will get caught in our filter, but we will get around to clearing these out.\n",
            "* Feel free to create scheduled threads if you want to.\n",
            "\n",
            "\n",
            "#### Related subreddits\n",
            "\n",
            "* r/BengaliLanguage \n",
            "* r/Dhaka\n",
            "* r/WestBengal \n",
            "* r/SouthAsianHistory\n",
            "* r/SouthAsianArt\n",
            "* r/OldIndia \n",
            "* r/ABCDesis\n",
            "\n",
            "#### Neighbouring subreddits\n",
            "\n",
            "* r/India\n",
            "* r/Myanmar or r/Burma\n"
          ]
        }
      ]
    },
    {
      "cell_type": "code",
      "source": [
        "posts = subreddit.top(\"month\")\n",
        "# Scraping the top posts of the current month\n",
        " \n",
        "posts_dict = {\"Title\": [], \"Post URL\": []}\n",
        " \n",
        "for post in posts:\n",
        "    # Title of each post\n",
        "    posts_dict[\"Title\"].append(post.title)\n",
        "     \n",
        "    posts_dict[\"Post URL\"].append(post.url)\n",
        " \n",
        "# Saving the data in a pandas dataframe\n",
        "top_posts = pd.DataFrame(posts_dict)\n",
        "top_posts"
      ],
      "metadata": {
        "colab": {
          "base_uri": "https://localhost:8080/",
          "height": 423
        },
        "id": "HsreNDlG1Vx9",
        "outputId": "33e6d76c-fbf7-4fa9-ba2d-b341063c51b2"
      },
      "execution_count": null,
      "outputs": [
        {
          "output_type": "execute_result",
          "data": {
            "text/html": [
              "\n",
              "  <div id=\"df-6e23e6d8-987c-49db-8398-35472a7d0d68\">\n",
              "    <div class=\"colab-df-container\">\n",
              "      <div>\n",
              "<style scoped>\n",
              "    .dataframe tbody tr th:only-of-type {\n",
              "        vertical-align: middle;\n",
              "    }\n",
              "\n",
              "    .dataframe tbody tr th {\n",
              "        vertical-align: top;\n",
              "    }\n",
              "\n",
              "    .dataframe thead th {\n",
              "        text-align: right;\n",
              "    }\n",
              "</style>\n",
              "<table border=\"1\" class=\"dataframe\">\n",
              "  <thead>\n",
              "    <tr style=\"text-align: right;\">\n",
              "      <th></th>\n",
              "      <th>Title</th>\n",
              "      <th>Post URL</th>\n",
              "    </tr>\n",
              "  </thead>\n",
              "  <tbody>\n",
              "    <tr>\n",
              "      <th>0</th>\n",
              "      <td>Happy 50th Bandhu 🤝🏾</td>\n",
              "      <td>https://v.redd.it/avpukimeux581</td>\n",
              "    </tr>\n",
              "    <tr>\n",
              "      <th>1</th>\n",
              "      <td>No one appreciates how smart the symbol for ta...</td>\n",
              "      <td>https://i.redd.it/gr15tfo5b5481.jpg</td>\n",
              "    </tr>\n",
              "    <tr>\n",
              "      <th>2</th>\n",
              "      <td>DHAKA's SKY on NYE 2022</td>\n",
              "      <td>https://i.redd.it/tmv2ay0gey881.jpg</td>\n",
              "    </tr>\n",
              "    <tr>\n",
              "      <th>3</th>\n",
              "      <td>Sick of being a female in this country</td>\n",
              "      <td>https://www.reddit.com/r/bangladesh/comments/r...</td>\n",
              "    </tr>\n",
              "    <tr>\n",
              "      <th>4</th>\n",
              "      <td>Police officer taking bribe openly on the road...</td>\n",
              "      <td>https://v.redd.it/gniztl7e2c581</td>\n",
              "    </tr>\n",
              "    <tr>\n",
              "      <th>...</th>\n",
              "      <td>...</td>\n",
              "      <td>...</td>\n",
              "    </tr>\n",
              "    <tr>\n",
              "      <th>95</th>\n",
              "      <td>Iconic photo of arguably one of the best Benga...</td>\n",
              "      <td>https://i.redd.it/y3h2j01cab581.jpg</td>\n",
              "    </tr>\n",
              "    <tr>\n",
              "      <th>96</th>\n",
              "      <td>This guy is going too far now. Claiming India ...</td>\n",
              "      <td>https://v.redd.it/h7h4gviu0z381</td>\n",
              "    </tr>\n",
              "    <tr>\n",
              "      <th>97</th>\n",
              "      <td>AI Generated Art Of \"Dhaka\"</td>\n",
              "      <td>https://i.redd.it/gzhmz2hvgc781.jpg</td>\n",
              "    </tr>\n",
              "    <tr>\n",
              "      <th>98</th>\n",
              "      <td>Questions for the ladies of Bangladesh</td>\n",
              "      <td>https://www.reddit.com/r/bangladesh/comments/r...</td>\n",
              "    </tr>\n",
              "    <tr>\n",
              "      <th>99</th>\n",
              "      <td>Taste overloaded but not feeling as like Ramad...</td>\n",
              "      <td>https://i.redd.it/lbymhpe6tb481.jpg</td>\n",
              "    </tr>\n",
              "  </tbody>\n",
              "</table>\n",
              "<p>100 rows × 2 columns</p>\n",
              "</div>\n",
              "      <button class=\"colab-df-convert\" onclick=\"convertToInteractive('df-6e23e6d8-987c-49db-8398-35472a7d0d68')\"\n",
              "              title=\"Convert this dataframe to an interactive table.\"\n",
              "              style=\"display:none;\">\n",
              "        \n",
              "  <svg xmlns=\"http://www.w3.org/2000/svg\" height=\"24px\"viewBox=\"0 0 24 24\"\n",
              "       width=\"24px\">\n",
              "    <path d=\"M0 0h24v24H0V0z\" fill=\"none\"/>\n",
              "    <path d=\"M18.56 5.44l.94 2.06.94-2.06 2.06-.94-2.06-.94-.94-2.06-.94 2.06-2.06.94zm-11 1L8.5 8.5l.94-2.06 2.06-.94-2.06-.94L8.5 2.5l-.94 2.06-2.06.94zm10 10l.94 2.06.94-2.06 2.06-.94-2.06-.94-.94-2.06-.94 2.06-2.06.94z\"/><path d=\"M17.41 7.96l-1.37-1.37c-.4-.4-.92-.59-1.43-.59-.52 0-1.04.2-1.43.59L10.3 9.45l-7.72 7.72c-.78.78-.78 2.05 0 2.83L4 21.41c.39.39.9.59 1.41.59.51 0 1.02-.2 1.41-.59l7.78-7.78 2.81-2.81c.8-.78.8-2.07 0-2.86zM5.41 20L4 18.59l7.72-7.72 1.47 1.35L5.41 20z\"/>\n",
              "  </svg>\n",
              "      </button>\n",
              "      \n",
              "  <style>\n",
              "    .colab-df-container {\n",
              "      display:flex;\n",
              "      flex-wrap:wrap;\n",
              "      gap: 12px;\n",
              "    }\n",
              "\n",
              "    .colab-df-convert {\n",
              "      background-color: #E8F0FE;\n",
              "      border: none;\n",
              "      border-radius: 50%;\n",
              "      cursor: pointer;\n",
              "      display: none;\n",
              "      fill: #1967D2;\n",
              "      height: 32px;\n",
              "      padding: 0 0 0 0;\n",
              "      width: 32px;\n",
              "    }\n",
              "\n",
              "    .colab-df-convert:hover {\n",
              "      background-color: #E2EBFA;\n",
              "      box-shadow: 0px 1px 2px rgba(60, 64, 67, 0.3), 0px 1px 3px 1px rgba(60, 64, 67, 0.15);\n",
              "      fill: #174EA6;\n",
              "    }\n",
              "\n",
              "    [theme=dark] .colab-df-convert {\n",
              "      background-color: #3B4455;\n",
              "      fill: #D2E3FC;\n",
              "    }\n",
              "\n",
              "    [theme=dark] .colab-df-convert:hover {\n",
              "      background-color: #434B5C;\n",
              "      box-shadow: 0px 1px 3px 1px rgba(0, 0, 0, 0.15);\n",
              "      filter: drop-shadow(0px 1px 2px rgba(0, 0, 0, 0.3));\n",
              "      fill: #FFFFFF;\n",
              "    }\n",
              "  </style>\n",
              "\n",
              "      <script>\n",
              "        const buttonEl =\n",
              "          document.querySelector('#df-6e23e6d8-987c-49db-8398-35472a7d0d68 button.colab-df-convert');\n",
              "        buttonEl.style.display =\n",
              "          google.colab.kernel.accessAllowed ? 'block' : 'none';\n",
              "\n",
              "        async function convertToInteractive(key) {\n",
              "          const element = document.querySelector('#df-6e23e6d8-987c-49db-8398-35472a7d0d68');\n",
              "          const dataTable =\n",
              "            await google.colab.kernel.invokeFunction('convertToInteractive',\n",
              "                                                     [key], {});\n",
              "          if (!dataTable) return;\n",
              "\n",
              "          const docLinkHtml = 'Like what you see? Visit the ' +\n",
              "            '<a target=\"_blank\" href=https://colab.research.google.com/notebooks/data_table.ipynb>data table notebook</a>'\n",
              "            + ' to learn more about interactive tables.';\n",
              "          element.innerHTML = '';\n",
              "          dataTable['output_type'] = 'display_data';\n",
              "          await google.colab.output.renderOutput(dataTable, element);\n",
              "          const docLink = document.createElement('div');\n",
              "          docLink.innerHTML = docLinkHtml;\n",
              "          element.appendChild(docLink);\n",
              "        }\n",
              "      </script>\n",
              "    </div>\n",
              "  </div>\n",
              "  "
            ],
            "text/plain": [
              "                                                Title                                           Post URL\n",
              "0                                Happy 50th Bandhu 🤝🏾                    https://v.redd.it/avpukimeux581\n",
              "1   No one appreciates how smart the symbol for ta...                https://i.redd.it/gr15tfo5b5481.jpg\n",
              "2                             DHAKA's SKY on NYE 2022                https://i.redd.it/tmv2ay0gey881.jpg\n",
              "3              Sick of being a female in this country  https://www.reddit.com/r/bangladesh/comments/r...\n",
              "4   Police officer taking bribe openly on the road...                    https://v.redd.it/gniztl7e2c581\n",
              "..                                                ...                                                ...\n",
              "95  Iconic photo of arguably one of the best Benga...                https://i.redd.it/y3h2j01cab581.jpg\n",
              "96  This guy is going too far now. Claiming India ...                    https://v.redd.it/h7h4gviu0z381\n",
              "97                        AI Generated Art Of \"Dhaka\"                https://i.redd.it/gzhmz2hvgc781.jpg\n",
              "98             Questions for the ladies of Bangladesh  https://www.reddit.com/r/bangladesh/comments/r...\n",
              "99  Taste overloaded but not feeling as like Ramad...                https://i.redd.it/lbymhpe6tb481.jpg\n",
              "\n",
              "[100 rows x 2 columns]"
            ]
          },
          "metadata": {},
          "execution_count": 4
        }
      ]
    },
    {
      "cell_type": "code",
      "source": [
        ""
      ],
      "metadata": {
        "colab": {
          "base_uri": "https://localhost:8080/",
          "height": 34
        },
        "id": "qyH85ZHME2Pi",
        "outputId": "f1b5af15-7d7e-4eac-f8d6-e44bda0938ab"
      },
      "execution_count": null,
      "outputs": [
        {
          "output_type": "execute_result",
          "data": {
            "application/vnd.google.colaboratory.intrinsic+json": {
              "type": "string"
            },
            "text/plain": [
              "\"YouTube removing dislike 'discourages trolls' but 'unhelpful for users'\""
            ]
          },
          "metadata": {},
          "execution_count": 16
        }
      ]
    },
    {
      "cell_type": "code",
      "source": [
        "posts = subreddit.top(limit=500) #\"month\"\n",
        "posts_dict = {\"Title\": [], \"Post URL\": [], \"text\":[]}\n",
        " \n",
        "for post in posts:\n",
        "    # Title of each post\n",
        "    post_comments = []\n",
        "    str = \"\"\n",
        "    posts_dict[\"Title\"].append(post.title)\n",
        "     \n",
        "    posts_dict[\"Post URL\"].append(post.url)\n",
        "    url = \"http://www.reddit.com/\" + post.id\n",
        "    submission = reddit_read_only.submission(url=url)\n",
        "\n",
        "    cntt = 0\n",
        "    for comment in submission.comments:\n",
        "      if cntt>100:\n",
        "        break\n",
        "      if type(comment) == MoreComments:\n",
        "          continue\n",
        "      post_comments.append(comment.body)\n",
        "      cntt= cntt+1\n",
        "\n",
        "    str1 = \" \" \n",
        "    str = str1.join(post_comments)\n",
        "\n",
        "    posts_dict[\"text\"].append(str)\n",
        "# Saving the data in a pandas dataframe\n",
        "top_posts = pd.DataFrame(posts_dict)\n",
        "top_posts"
      ],
      "metadata": {
        "colab": {
          "base_uri": "https://localhost:8080/",
          "height": 423
        },
        "id": "jd9XZjk1FIvV",
        "outputId": "de3f917b-b4cb-4285-ae9b-1ca5a7862d8b"
      },
      "execution_count": null,
      "outputs": [
        {
          "output_type": "execute_result",
          "data": {
            "text/html": [
              "\n",
              "  <div id=\"df-38e01403-6df0-40c4-ae29-2b0838ce4bd9\">\n",
              "    <div class=\"colab-df-container\">\n",
              "      <div>\n",
              "<style scoped>\n",
              "    .dataframe tbody tr th:only-of-type {\n",
              "        vertical-align: middle;\n",
              "    }\n",
              "\n",
              "    .dataframe tbody tr th {\n",
              "        vertical-align: top;\n",
              "    }\n",
              "\n",
              "    .dataframe thead th {\n",
              "        text-align: right;\n",
              "    }\n",
              "</style>\n",
              "<table border=\"1\" class=\"dataframe\">\n",
              "  <thead>\n",
              "    <tr style=\"text-align: right;\">\n",
              "      <th></th>\n",
              "      <th>Title</th>\n",
              "      <th>Post URL</th>\n",
              "      <th>text</th>\n",
              "    </tr>\n",
              "  </thead>\n",
              "  <tbody>\n",
              "    <tr>\n",
              "      <th>0</th>\n",
              "      <td>How You Can Help (Please Read)</td>\n",
              "      <td>https://www.reddit.com/r/bangladesh/comments/9...</td>\n",
              "      <td>NSU student Ashraful Islam Akib was severely i...</td>\n",
              "    </tr>\n",
              "    <tr>\n",
              "      <th>1</th>\n",
              "      <td>PM of Bangladesh. She prides herself for being...</td>\n",
              "      <td>https://i.redd.it/ajxrhgkaxbe11.jpg</td>\n",
              "      <td>According to the country's history, their war ...</td>\n",
              "    </tr>\n",
              "    <tr>\n",
              "      <th>2</th>\n",
              "      <td>A reporter in Bangladesh gets beaten with meta...</td>\n",
              "      <td>https://i.redd.it/g13x2e2lh9e11.jpg</td>\n",
              "      <td>What happened to the person who took this phot...</td>\n",
              "    </tr>\n",
              "    <tr>\n",
              "      <th>3</th>\n",
              "      <td>Student Protests Links &amp; Discussion Megathread</td>\n",
              "      <td>https://www.reddit.com/r/bangladesh/comments/9...</td>\n",
              "      <td>Last update, Aug 9, Thursday, 10.30 AM EST, 8....</td>\n",
              "    </tr>\n",
              "    <tr>\n",
              "      <th>4</th>\n",
              "      <td>Student protesters eyes were gouged out by thu...</td>\n",
              "      <td>https://i.redd.it/gkrn4e7i23e11.jpg</td>\n",
              "      <td>[deleted] That reporter woman in purple is in ...</td>\n",
              "    </tr>\n",
              "    <tr>\n",
              "      <th>...</th>\n",
              "      <td>...</td>\n",
              "      <td>...</td>\n",
              "      <td>...</td>\n",
              "    </tr>\n",
              "    <tr>\n",
              "      <th>495</th>\n",
              "      <td>সৃজনশীলতা ?</td>\n",
              "      <td>https://i.redd.it/cqevm1ntpj161.jpg</td>\n",
              "      <td>Once again im tempted to remove this post beca...</td>\n",
              "    </tr>\n",
              "    <tr>\n",
              "      <th>496</th>\n",
              "      <td>This is so funny</td>\n",
              "      <td>https://i.redd.it/81ls7wd976z51.jpg</td>\n",
              "      <td>That't hundred shades of shit right there! I l...</td>\n",
              "    </tr>\n",
              "    <tr>\n",
              "      <th>497</th>\n",
              "      <td>These things happen</td>\n",
              "      <td>https://i.redd.it/6cgsita0xa881.jpg</td>\n",
              "      <td>hoping that this was the last phone call from ...</td>\n",
              "    </tr>\n",
              "    <tr>\n",
              "      <th>498</th>\n",
              "      <td>Now we have Taliban in our country. They are a...</td>\n",
              "      <td>https://i.imgur.com/Nfwjlra.png</td>\n",
              "      <td>ask a talibaan sympathizer why is the talibaan...</td>\n",
              "    </tr>\n",
              "    <tr>\n",
              "      <th>499</th>\n",
              "      <td>The 18th century subdivision of the Mughal Emp...</td>\n",
              "      <td>https://i.redd.it/0bzjm020paz61.png</td>\n",
              "      <td>Hey cool post. Could you also source the info ...</td>\n",
              "    </tr>\n",
              "  </tbody>\n",
              "</table>\n",
              "<p>500 rows × 3 columns</p>\n",
              "</div>\n",
              "      <button class=\"colab-df-convert\" onclick=\"convertToInteractive('df-38e01403-6df0-40c4-ae29-2b0838ce4bd9')\"\n",
              "              title=\"Convert this dataframe to an interactive table.\"\n",
              "              style=\"display:none;\">\n",
              "        \n",
              "  <svg xmlns=\"http://www.w3.org/2000/svg\" height=\"24px\"viewBox=\"0 0 24 24\"\n",
              "       width=\"24px\">\n",
              "    <path d=\"M0 0h24v24H0V0z\" fill=\"none\"/>\n",
              "    <path d=\"M18.56 5.44l.94 2.06.94-2.06 2.06-.94-2.06-.94-.94-2.06-.94 2.06-2.06.94zm-11 1L8.5 8.5l.94-2.06 2.06-.94-2.06-.94L8.5 2.5l-.94 2.06-2.06.94zm10 10l.94 2.06.94-2.06 2.06-.94-2.06-.94-.94-2.06-.94 2.06-2.06.94z\"/><path d=\"M17.41 7.96l-1.37-1.37c-.4-.4-.92-.59-1.43-.59-.52 0-1.04.2-1.43.59L10.3 9.45l-7.72 7.72c-.78.78-.78 2.05 0 2.83L4 21.41c.39.39.9.59 1.41.59.51 0 1.02-.2 1.41-.59l7.78-7.78 2.81-2.81c.8-.78.8-2.07 0-2.86zM5.41 20L4 18.59l7.72-7.72 1.47 1.35L5.41 20z\"/>\n",
              "  </svg>\n",
              "      </button>\n",
              "      \n",
              "  <style>\n",
              "    .colab-df-container {\n",
              "      display:flex;\n",
              "      flex-wrap:wrap;\n",
              "      gap: 12px;\n",
              "    }\n",
              "\n",
              "    .colab-df-convert {\n",
              "      background-color: #E8F0FE;\n",
              "      border: none;\n",
              "      border-radius: 50%;\n",
              "      cursor: pointer;\n",
              "      display: none;\n",
              "      fill: #1967D2;\n",
              "      height: 32px;\n",
              "      padding: 0 0 0 0;\n",
              "      width: 32px;\n",
              "    }\n",
              "\n",
              "    .colab-df-convert:hover {\n",
              "      background-color: #E2EBFA;\n",
              "      box-shadow: 0px 1px 2px rgba(60, 64, 67, 0.3), 0px 1px 3px 1px rgba(60, 64, 67, 0.15);\n",
              "      fill: #174EA6;\n",
              "    }\n",
              "\n",
              "    [theme=dark] .colab-df-convert {\n",
              "      background-color: #3B4455;\n",
              "      fill: #D2E3FC;\n",
              "    }\n",
              "\n",
              "    [theme=dark] .colab-df-convert:hover {\n",
              "      background-color: #434B5C;\n",
              "      box-shadow: 0px 1px 3px 1px rgba(0, 0, 0, 0.15);\n",
              "      filter: drop-shadow(0px 1px 2px rgba(0, 0, 0, 0.3));\n",
              "      fill: #FFFFFF;\n",
              "    }\n",
              "  </style>\n",
              "\n",
              "      <script>\n",
              "        const buttonEl =\n",
              "          document.querySelector('#df-38e01403-6df0-40c4-ae29-2b0838ce4bd9 button.colab-df-convert');\n",
              "        buttonEl.style.display =\n",
              "          google.colab.kernel.accessAllowed ? 'block' : 'none';\n",
              "\n",
              "        async function convertToInteractive(key) {\n",
              "          const element = document.querySelector('#df-38e01403-6df0-40c4-ae29-2b0838ce4bd9');\n",
              "          const dataTable =\n",
              "            await google.colab.kernel.invokeFunction('convertToInteractive',\n",
              "                                                     [key], {});\n",
              "          if (!dataTable) return;\n",
              "\n",
              "          const docLinkHtml = 'Like what you see? Visit the ' +\n",
              "            '<a target=\"_blank\" href=https://colab.research.google.com/notebooks/data_table.ipynb>data table notebook</a>'\n",
              "            + ' to learn more about interactive tables.';\n",
              "          element.innerHTML = '';\n",
              "          dataTable['output_type'] = 'display_data';\n",
              "          await google.colab.output.renderOutput(dataTable, element);\n",
              "          const docLink = document.createElement('div');\n",
              "          docLink.innerHTML = docLinkHtml;\n",
              "          element.appendChild(docLink);\n",
              "        }\n",
              "      </script>\n",
              "    </div>\n",
              "  </div>\n",
              "  "
            ],
            "text/plain": [
              "                                                 Title  ...                                               text\n",
              "0                       How You Can Help (Please Read)  ...  NSU student Ashraful Islam Akib was severely i...\n",
              "1    PM of Bangladesh. She prides herself for being...  ...  According to the country's history, their war ...\n",
              "2    A reporter in Bangladesh gets beaten with meta...  ...  What happened to the person who took this phot...\n",
              "3       Student Protests Links & Discussion Megathread  ...  Last update, Aug 9, Thursday, 10.30 AM EST, 8....\n",
              "4    Student protesters eyes were gouged out by thu...  ...  [deleted] That reporter woman in purple is in ...\n",
              "..                                                 ...  ...                                                ...\n",
              "495                                        সৃজনশীলতা ?  ...  Once again im tempted to remove this post beca...\n",
              "496                                   This is so funny  ...  That't hundred shades of shit right there! I l...\n",
              "497                                These things happen  ...  hoping that this was the last phone call from ...\n",
              "498  Now we have Taliban in our country. They are a...  ...  ask a talibaan sympathizer why is the talibaan...\n",
              "499  The 18th century subdivision of the Mughal Emp...  ...  Hey cool post. Could you also source the info ...\n",
              "\n",
              "[500 rows x 3 columns]"
            ]
          },
          "metadata": {},
          "execution_count": 19
        }
      ]
    },
    {
      "cell_type": "code",
      "source": [
        "top_posts.iloc[5].text"
      ],
      "metadata": {
        "colab": {
          "base_uri": "https://localhost:8080/",
          "height": 93
        },
        "id": "2DDyPDKrRJk6",
        "outputId": "0b7563e3-c749-415b-ccc6-aa318176c17a"
      },
      "execution_count": null,
      "outputs": [
        {
          "output_type": "execute_result",
          "data": {
            "application/vnd.google.colaboratory.intrinsic+json": {
              "type": "string"
            },
            "text/plain": [
              "'I really hope things settle...and this doesn\\'t become my worse fear  This generation of young men are making up for the monsters who are hurting and raping women in the name of \"policing\" Selling daughters is still a thing. Rape is a real threat as men rule over all. Rape victims are placed in prison, for protection. After they  are raped, you get an honor killing by family because she was raped. I could go on and on but every country has its unique issues.   I\\'m glad there aren\\'t any feminists complaining about this Boomers: this generation is just all drugs and crime!\\n\\nAlso this generation: How did the thugs even manage to find rape as a solution to traffic problems?? Like yeah sure my *car* is the problem, lemme just speed run this random girl that\\'ll solve the *car* problem Repost'"
            ]
          },
          "metadata": {},
          "execution_count": 5
        }
      ]
    },
    {
      "cell_type": "code",
      "source": [
        "top_posts.to_csv('reddit_top500.csv', mode='a', encoding='utf-8', index=False)"
      ],
      "metadata": {
        "id": "CRnkJAra-PT2"
      },
      "execution_count": null,
      "outputs": []
    },
    {
      "cell_type": "code",
      "source": [
        "files.download('reddit_top500.csv')"
      ],
      "metadata": {
        "id": "v6htnjfqTpPs",
        "colab": {
          "base_uri": "https://localhost:8080/",
          "height": 16
        },
        "outputId": "84673ace-b341-4e5f-bafd-81597a3aa040"
      },
      "execution_count": null,
      "outputs": [
        {
          "output_type": "display_data",
          "data": {
            "application/javascript": [
              "\n",
              "    async function download(id, filename, size) {\n",
              "      if (!google.colab.kernel.accessAllowed) {\n",
              "        return;\n",
              "      }\n",
              "      const div = document.createElement('div');\n",
              "      const label = document.createElement('label');\n",
              "      label.textContent = `Downloading \"${filename}\": `;\n",
              "      div.appendChild(label);\n",
              "      const progress = document.createElement('progress');\n",
              "      progress.max = size;\n",
              "      div.appendChild(progress);\n",
              "      document.body.appendChild(div);\n",
              "\n",
              "      const buffers = [];\n",
              "      let downloaded = 0;\n",
              "\n",
              "      const channel = await google.colab.kernel.comms.open(id);\n",
              "      // Send a message to notify the kernel that we're ready.\n",
              "      channel.send({})\n",
              "\n",
              "      for await (const message of channel.messages) {\n",
              "        // Send a message to notify the kernel that we're ready.\n",
              "        channel.send({})\n",
              "        if (message.buffers) {\n",
              "          for (const buffer of message.buffers) {\n",
              "            buffers.push(buffer);\n",
              "            downloaded += buffer.byteLength;\n",
              "            progress.value = downloaded;\n",
              "          }\n",
              "        }\n",
              "      }\n",
              "      const blob = new Blob(buffers, {type: 'application/binary'});\n",
              "      const a = document.createElement('a');\n",
              "      a.href = window.URL.createObjectURL(blob);\n",
              "      a.download = filename;\n",
              "      div.appendChild(a);\n",
              "      a.click();\n",
              "      div.remove();\n",
              "    }\n",
              "  "
            ],
            "text/plain": [
              "<IPython.core.display.Javascript object>"
            ]
          },
          "metadata": {}
        },
        {
          "output_type": "display_data",
          "data": {
            "application/javascript": [
              "download(\"download_c50e62ac-cbb5-433c-8def-9d9758483001\", \"reddit_top500.csv\", 968347)"
            ],
            "text/plain": [
              "<IPython.core.display.Javascript object>"
            ]
          },
          "metadata": {}
        }
      ]
    },
    {
      "cell_type": "code",
      "source": [
        "uploaded = files.upload()"
      ],
      "metadata": {
        "id": "5aOiknj-UVuG",
        "colab": {
          "base_uri": "https://localhost:8080/",
          "height": 57,
          "resources": {
            "http://localhost:8080/nbextensions/google.colab/files.js": {
              "data": "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",
              "ok": true,
              "headers": [
                [
                  "content-type",
                  "application/javascript"
                ]
              ],
              "status": 200,
              "status_text": ""
            }
          }
        },
        "outputId": "ad1f1fa9-640b-45f2-cdda-c1a3166469c4"
      },
      "execution_count": 3,
      "outputs": [
        {
          "output_type": "display_data",
          "data": {
            "text/html": [
              "\n",
              "     <input type=\"file\" id=\"files-b76ce633-3544-4317-92fc-59e5cb4dc5b0\" name=\"files[]\" multiple disabled\n",
              "        style=\"border:none\" />\n",
              "     <output id=\"result-b76ce633-3544-4317-92fc-59e5cb4dc5b0\">\n",
              "      Upload widget is only available when the cell has been executed in the\n",
              "      current browser session. Please rerun this cell to enable.\n",
              "      </output>\n",
              "      <script src=\"/nbextensions/google.colab/files.js\"></script> "
            ],
            "text/plain": [
              "<IPython.core.display.HTML object>"
            ]
          },
          "metadata": {}
        },
        {
          "output_type": "stream",
          "name": "stdout",
          "text": [
            "Saving reddit_top500.csv to reddit_top500 (1).csv\n"
          ]
        }
      ]
    },
    {
      "cell_type": "code",
      "source": [
        "top_posts = pd.read_csv(\"reddit_top500.csv\")"
      ],
      "metadata": {
        "id": "BdvuNDAug7-r"
      },
      "execution_count": 4,
      "outputs": []
    },
    {
      "cell_type": "code",
      "source": [
        "data_words = list(sent_to_words(top_posts[\"topic\"]))"
      ],
      "metadata": {
        "id": "B58UhjtEhMh2"
      },
      "execution_count": null,
      "outputs": []
    },
    {
      "cell_type": "code",
      "source": [
        "top_posts.head()"
      ],
      "metadata": {
        "colab": {
          "base_uri": "https://localhost:8080/",
          "height": 207
        },
        "id": "-rTOHDIhhXnG",
        "outputId": "b81f7557-a87f-48bc-daf7-670a0e248f3a"
      },
      "execution_count": 34,
      "outputs": [
        {
          "output_type": "execute_result",
          "data": {
            "text/html": [
              "\n",
              "  <div id=\"df-0b5c9fde-a2e0-4b6f-85d4-59aa96c9306b\">\n",
              "    <div class=\"colab-df-container\">\n",
              "      <div>\n",
              "<style scoped>\n",
              "    .dataframe tbody tr th:only-of-type {\n",
              "        vertical-align: middle;\n",
              "    }\n",
              "\n",
              "    .dataframe tbody tr th {\n",
              "        vertical-align: top;\n",
              "    }\n",
              "\n",
              "    .dataframe thead th {\n",
              "        text-align: right;\n",
              "    }\n",
              "</style>\n",
              "<table border=\"1\" class=\"dataframe\">\n",
              "  <thead>\n",
              "    <tr style=\"text-align: right;\">\n",
              "      <th></th>\n",
              "      <th>Title</th>\n",
              "      <th>Post URL</th>\n",
              "      <th>text</th>\n",
              "    </tr>\n",
              "  </thead>\n",
              "  <tbody>\n",
              "    <tr>\n",
              "      <th>0</th>\n",
              "      <td>How You Can Help (Please Read)</td>\n",
              "      <td>https://www.reddit.com/r/bangladesh/comments/9...</td>\n",
              "      <td>NSU student Ashraful Islam Akib was severely i...</td>\n",
              "    </tr>\n",
              "    <tr>\n",
              "      <th>1</th>\n",
              "      <td>PM of Bangladesh. She prides herself for being...</td>\n",
              "      <td>https://i.redd.it/ajxrhgkaxbe11.jpg</td>\n",
              "      <td>According to the country's history, their war ...</td>\n",
              "    </tr>\n",
              "    <tr>\n",
              "      <th>2</th>\n",
              "      <td>A reporter in Bangladesh gets beaten with meta...</td>\n",
              "      <td>https://i.redd.it/g13x2e2lh9e11.jpg</td>\n",
              "      <td>What happened to the person who took this phot...</td>\n",
              "    </tr>\n",
              "    <tr>\n",
              "      <th>3</th>\n",
              "      <td>Student Protests Links &amp; Discussion Megathread</td>\n",
              "      <td>https://www.reddit.com/r/bangladesh/comments/9...</td>\n",
              "      <td>Last update, Aug 9, Thursday, 10.30 AM EST, 8....</td>\n",
              "    </tr>\n",
              "    <tr>\n",
              "      <th>4</th>\n",
              "      <td>Student protesters eyes were gouged out by thu...</td>\n",
              "      <td>https://i.redd.it/gkrn4e7i23e11.jpg</td>\n",
              "      <td>[deleted] That reporter woman in purple is in ...</td>\n",
              "    </tr>\n",
              "  </tbody>\n",
              "</table>\n",
              "</div>\n",
              "      <button class=\"colab-df-convert\" onclick=\"convertToInteractive('df-0b5c9fde-a2e0-4b6f-85d4-59aa96c9306b')\"\n",
              "              title=\"Convert this dataframe to an interactive table.\"\n",
              "              style=\"display:none;\">\n",
              "        \n",
              "  <svg xmlns=\"http://www.w3.org/2000/svg\" height=\"24px\"viewBox=\"0 0 24 24\"\n",
              "       width=\"24px\">\n",
              "    <path d=\"M0 0h24v24H0V0z\" fill=\"none\"/>\n",
              "    <path d=\"M18.56 5.44l.94 2.06.94-2.06 2.06-.94-2.06-.94-.94-2.06-.94 2.06-2.06.94zm-11 1L8.5 8.5l.94-2.06 2.06-.94-2.06-.94L8.5 2.5l-.94 2.06-2.06.94zm10 10l.94 2.06.94-2.06 2.06-.94-2.06-.94-.94-2.06-.94 2.06-2.06.94z\"/><path d=\"M17.41 7.96l-1.37-1.37c-.4-.4-.92-.59-1.43-.59-.52 0-1.04.2-1.43.59L10.3 9.45l-7.72 7.72c-.78.78-.78 2.05 0 2.83L4 21.41c.39.39.9.59 1.41.59.51 0 1.02-.2 1.41-.59l7.78-7.78 2.81-2.81c.8-.78.8-2.07 0-2.86zM5.41 20L4 18.59l7.72-7.72 1.47 1.35L5.41 20z\"/>\n",
              "  </svg>\n",
              "      </button>\n",
              "      \n",
              "  <style>\n",
              "    .colab-df-container {\n",
              "      display:flex;\n",
              "      flex-wrap:wrap;\n",
              "      gap: 12px;\n",
              "    }\n",
              "\n",
              "    .colab-df-convert {\n",
              "      background-color: #E8F0FE;\n",
              "      border: none;\n",
              "      border-radius: 50%;\n",
              "      cursor: pointer;\n",
              "      display: none;\n",
              "      fill: #1967D2;\n",
              "      height: 32px;\n",
              "      padding: 0 0 0 0;\n",
              "      width: 32px;\n",
              "    }\n",
              "\n",
              "    .colab-df-convert:hover {\n",
              "      background-color: #E2EBFA;\n",
              "      box-shadow: 0px 1px 2px rgba(60, 64, 67, 0.3), 0px 1px 3px 1px rgba(60, 64, 67, 0.15);\n",
              "      fill: #174EA6;\n",
              "    }\n",
              "\n",
              "    [theme=dark] .colab-df-convert {\n",
              "      background-color: #3B4455;\n",
              "      fill: #D2E3FC;\n",
              "    }\n",
              "\n",
              "    [theme=dark] .colab-df-convert:hover {\n",
              "      background-color: #434B5C;\n",
              "      box-shadow: 0px 1px 3px 1px rgba(0, 0, 0, 0.15);\n",
              "      filter: drop-shadow(0px 1px 2px rgba(0, 0, 0, 0.3));\n",
              "      fill: #FFFFFF;\n",
              "    }\n",
              "  </style>\n",
              "\n",
              "      <script>\n",
              "        const buttonEl =\n",
              "          document.querySelector('#df-0b5c9fde-a2e0-4b6f-85d4-59aa96c9306b button.colab-df-convert');\n",
              "        buttonEl.style.display =\n",
              "          google.colab.kernel.accessAllowed ? 'block' : 'none';\n",
              "\n",
              "        async function convertToInteractive(key) {\n",
              "          const element = document.querySelector('#df-0b5c9fde-a2e0-4b6f-85d4-59aa96c9306b');\n",
              "          const dataTable =\n",
              "            await google.colab.kernel.invokeFunction('convertToInteractive',\n",
              "                                                     [key], {});\n",
              "          if (!dataTable) return;\n",
              "\n",
              "          const docLinkHtml = 'Like what you see? Visit the ' +\n",
              "            '<a target=\"_blank\" href=https://colab.research.google.com/notebooks/data_table.ipynb>data table notebook</a>'\n",
              "            + ' to learn more about interactive tables.';\n",
              "          element.innerHTML = '';\n",
              "          dataTable['output_type'] = 'display_data';\n",
              "          await google.colab.output.renderOutput(dataTable, element);\n",
              "          const docLink = document.createElement('div');\n",
              "          docLink.innerHTML = docLinkHtml;\n",
              "          element.appendChild(docLink);\n",
              "        }\n",
              "      </script>\n",
              "    </div>\n",
              "  </div>\n",
              "  "
            ],
            "text/plain": [
              "                                               Title  ...                                               text\n",
              "0                     How You Can Help (Please Read)  ...  NSU student Ashraful Islam Akib was severely i...\n",
              "1  PM of Bangladesh. She prides herself for being...  ...  According to the country's history, their war ...\n",
              "2  A reporter in Bangladesh gets beaten with meta...  ...  What happened to the person who took this phot...\n",
              "3     Student Protests Links & Discussion Megathread  ...  Last update, Aug 9, Thursday, 10.30 AM EST, 8....\n",
              "4  Student protesters eyes were gouged out by thu...  ...  [deleted] That reporter woman in purple is in ...\n",
              "\n",
              "[5 rows x 3 columns]"
            ]
          },
          "metadata": {},
          "execution_count": 34
        }
      ]
    },
    {
      "cell_type": "code",
      "source": [
        "top_posts[\"topic\"] = top_posts[\"Title\"] +\" \"+ top_posts[\"text\"]"
      ],
      "metadata": {
        "id": "myHWHoi1fccl"
      },
      "execution_count": 5,
      "outputs": []
    },
    {
      "cell_type": "code",
      "source": [
        "strs = \"\"\n",
        "for i in range(len(top_posts)) :\n",
        "  strs = strs+ str(top_posts.loc[i, \"topic\"])"
      ],
      "metadata": {
        "id": "tnlq7scMkM8h"
      },
      "execution_count": 30,
      "outputs": []
    },
    {
      "cell_type": "code",
      "source": [
        "data_words = list(sent_to_words(strs))"
      ],
      "metadata": {
        "id": "ZG42XSuUnEaU"
      },
      "execution_count": null,
      "outputs": []
    },
    {
      "cell_type": "code",
      "source": [
        "del lst"
      ],
      "metadata": {
        "id": "YWj7MFq2ip28"
      },
      "execution_count": 38,
      "outputs": []
    },
    {
      "cell_type": "code",
      "source": [
        "data_words = list(sent_to_words(lst))"
      ],
      "metadata": {
        "id": "dKweoOYknl1L"
      },
      "execution_count": null,
      "outputs": []
    },
    {
      "cell_type": "code",
      "source": [
        "top_posts['processed'] = top_posts['topic'].map(lambda x: re.sub('[,\\.!?]', '', str(x)))"
      ],
      "metadata": {
        "id": "alYVdEYrnpVR"
      },
      "execution_count": 6,
      "outputs": []
    },
    {
      "cell_type": "code",
      "source": [
        "top_posts['processed'] = top_posts['processed'].map(lambda x: x.lower())"
      ],
      "metadata": {
        "id": "1_HK3SvRoCBl"
      },
      "execution_count": 7,
      "outputs": []
    },
    {
      "cell_type": "code",
      "source": [
        "top_posts['processed'].head()"
      ],
      "metadata": {
        "colab": {
          "base_uri": "https://localhost:8080/"
        },
        "id": "GYX0hnL5pGmw",
        "outputId": "7461953a-1bae-4778-c87a-ee61f6e8c684"
      },
      "execution_count": 42,
      "outputs": [
        {
          "output_type": "execute_result",
          "data": {
            "text/plain": [
              "0    how you can help (please read) nsu student ash...\n",
              "1    pm of bangladesh she prides herself for being ...\n",
              "2    a reporter in bangladesh gets beaten with meta...\n",
              "3    student protests links & discussion megathread...\n",
              "4    student protesters eyes were gouged out by thu...\n",
              "Name: processed, dtype: object"
            ]
          },
          "metadata": {},
          "execution_count": 42
        }
      ]
    },
    {
      "cell_type": "code",
      "source": [
        "import gensim\n",
        "from gensim.utils import simple_preprocess\n",
        "\n",
        "def sent_to_words(se):\n",
        "  for sentence in se:\n",
        "    yield(gensim.utils.simple_preprocess(str(se), deacc=True))  # deacc=True removes punctuations\n",
        "        \n",
        "data = top_posts.processed.values.tolist()\n",
        "data_words = list(sent_to_words(data))"
      ],
      "metadata": {
        "id": "Oi_hiIWdoOd8"
      },
      "execution_count": 8,
      "outputs": []
    },
    {
      "cell_type": "code",
      "source": [
        "import pickle\n",
        "with open('data_words.pickle', 'wb') as f:\n",
        "    pickle.dump(data_words, f)\n",
        "files.download('data_words.pickle')"
      ],
      "metadata": {
        "id": "FATFE49szQlc"
      },
      "execution_count": null,
      "outputs": []
    },
    {
      "cell_type": "code",
      "source": [
        "import pickle\n",
        "with open('ngrams.pickle', 'rb') as f:\n",
        "    bigram_mod, trigram_mod = pickle.load(f)"
      ],
      "metadata": {
        "id": "O-AefMoazt7U"
      },
      "execution_count": 4,
      "outputs": []
    },
    {
      "cell_type": "code",
      "source": [
        "import pickle\n",
        "with open('words.pickle', 'rb') as f:\n",
        "    id2word, corpus = pickle.load(f)"
      ],
      "metadata": {
        "id": "u8eKNm65z-hB"
      },
      "execution_count": null,
      "outputs": []
    },
    {
      "cell_type": "code",
      "source": [
        "# Build the bigram and trigram models\n",
        "bigram = gensim.models.Phrases(data_words, min_count=5, threshold=100) # higher threshold fewer phrases.\n",
        "trigram = gensim.models.Phrases(bigram[data_words], threshold=100)\n",
        "# Faster way to get a sentence clubbed as a trigram/bigram\n",
        "bigram_mod = gensim.models.phrases.Phraser(bigram)\n",
        "trigram_mod = gensim.models.phrases.Phraser(trigram)"
      ],
      "metadata": {
        "colab": {
          "base_uri": "https://localhost:8080/"
        },
        "id": "z4bYfaKoofQR",
        "outputId": "0e8c645c-aa58-4460-c0ec-9112336469e8"
      },
      "execution_count": 9,
      "outputs": [
        {
          "output_type": "stream",
          "name": "stderr",
          "text": [
            "/usr/local/lib/python3.7/dist-packages/gensim/models/phrases.py:598: UserWarning: For a faster implementation, use the gensim.models.phrases.Phraser class\n",
            "  warnings.warn(\"For a faster implementation, use the gensim.models.phrases.Phraser class\")\n"
          ]
        }
      ]
    },
    {
      "cell_type": "code",
      "source": [
        "import pickle\n",
        "with open('ngrams.pickle', 'wb') as f:\n",
        "    pickle.dump([bigram_mod, trigram_mod], f)"
      ],
      "metadata": {
        "id": "5SPqSWNBwwRH"
      },
      "execution_count": 11,
      "outputs": []
    },
    {
      "cell_type": "code",
      "source": [
        "files.download('ngrams.pickle')"
      ],
      "metadata": {
        "id": "4ZRlucLjw7Ya"
      },
      "execution_count": null,
      "outputs": []
    },
    {
      "cell_type": "code",
      "source": [
        "# NLTK Stop words\n",
        "# import nltk\n",
        "# nltk.download('stopwords')\n",
        "from nltk.corpus import stopwords\n",
        "stop_words = stopwords.words('english')\n",
        "stop_words.extend(['from', 'subject', 're', 'edu', 'use'])\n",
        "# Define functions for stopwords, bigrams, trigrams and lemmatization\n",
        "def remove_stopwords(texts):\n",
        "    return [[word for word in simple_preprocess(str(doc)) if word not in stop_words] for doc in texts]\n",
        "def make_bigrams(texts):\n",
        "    return [bigram_mod[doc] for doc in texts]\n",
        "def make_trigrams(texts):\n",
        "    return [trigram_mod[bigram_mod[doc]] for doc in texts]\n",
        "def lemmatization(texts, allowed_postags=['NOUN', 'ADJ', 'VERB', 'ADV']):\n",
        "    \"\"\"https://spacy.io/api/annotation\"\"\"\n",
        "    texts_out = []\n",
        "    for sent in texts:\n",
        "        doc = nlp(\" \".join(sent)) \n",
        "        texts_out.append([token.lemma_ for token in doc if token.pos_ in allowed_postags])\n",
        "    return texts_out"
      ],
      "metadata": {
        "id": "-ryueLRsrxbS"
      },
      "execution_count": 5,
      "outputs": []
    },
    {
      "cell_type": "code",
      "source": [
        "import spacy\n",
        "# Remove Stop Words\n",
        "data_words_nostops = remove_stopwords(data_words)\n",
        "# Form Bigrams\n",
        "data_words_bigrams = make_bigrams(data_words_nostops)\n",
        "# Initialize spacy 'en' model, keeping only tagger component (for efficiency)\n",
        "nlp = spacy.load(\"en_core_web_sm\", disable=['parser', 'ner'])\n",
        "# Do lemmatization keeping only noun, adj, vb, adv\n",
        "data_lemmatized = lemmatization(data_words_bigrams, allowed_postags=['NOUN', 'ADJ', 'VERB', 'ADV'])\n",
        "print(data_lemmatized[:1])"
      ],
      "metadata": {
        "id": "vbt86Bh2r7OO"
      },
      "execution_count": null,
      "outputs": []
    },
    {
      "cell_type": "code",
      "source": [
        "import gensim.corpora as corpora\n",
        "# Create Dictionary\n",
        "id2word = corpora.Dictionary(data_lemmatized)\n",
        "# Create Corpus\n",
        "texts = data_lemmatized\n",
        "# Term Document Frequency\n",
        "corpus = [id2word.doc2bow(text) for text in texts]\n",
        "# View\n",
        "print(corpus[:1])"
      ],
      "metadata": {
        "id": "eM7tnd8hr_s9"
      },
      "execution_count": null,
      "outputs": []
    },
    {
      "cell_type": "code",
      "source": [
        "import pickle\n",
        "with open('words.pickle', ‘wb’) as f:\n",
        "    pickle.dump([id2word, corpus], f)"
      ],
      "metadata": {
        "id": "GZ2zyecNk7Os"
      },
      "execution_count": null,
      "outputs": []
    },
    {
      "cell_type": "code",
      "source": [
        "import pickle\n",
        "with open('words.pickle', 'rb') as f:\n",
        "    id2word, corpus = pickle.load(f)"
      ],
      "metadata": {
        "id": "w5KSWDyelRfO"
      },
      "execution_count": null,
      "outputs": []
    },
    {
      "cell_type": "code",
      "source": [
        "lda_model = gensim.models.LdaMulticore(corpus=corpus,\n",
        "                                       id2word=id2word,\n",
        "                                       num_topics=10, \n",
        "                                       random_state=100,\n",
        "                                       chunksize=100,\n",
        "                                       passes=10,\n",
        "                                       per_word_topics=True)"
      ],
      "metadata": {
        "id": "-LV6vaKTsC79"
      },
      "execution_count": null,
      "outputs": []
    },
    {
      "cell_type": "code",
      "source": [
        "from pprint import pprint\n",
        "# Print the Keyword in the 10 topics\n",
        "pprint(lda_model.print_topics())\n",
        "doc_lda = lda_model[corpus]"
      ],
      "metadata": {
        "colab": {
          "base_uri": "https://localhost:8080/"
        },
        "id": "5K5hd6oXsQvM",
        "outputId": "1f308d97-d2f7-407f-fd43-51eecc072b8e"
      },
      "execution_count": null,
      "outputs": [
        {
          "output_type": "stream",
          "name": "stdout",
          "text": [
            "[(0,\n",
            "  '0.011*\"people\" + 0.009*\"subreddit\" + 0.009*\"country\" + 0.009*\"moderator\" + '\n",
            "  '0.008*\"put\" + 0.007*\"would\" + 0.007*\"make\" + 0.007*\"post\" + '\n",
            "  '0.007*\"automatically\" + 0.007*\"bangladesh\"'),\n",
            " (1,\n",
            "  '0.013*\"people\" + 0.011*\"message\" + 0.009*\"bangladesh\" + 0.009*\"post\" + '\n",
            "  '0.008*\"get\" + 0.007*\"think\" + 0.007*\"subreddit\" + 0.007*\"good\" + '\n",
            "  '0.007*\"would\" + 0.007*\"question\"'),\n",
            " (2,\n",
            "  '0.010*\"people\" + 0.010*\"message\" + 0.010*\"go\" + 0.009*\"bangladesh\" + '\n",
            "  '0.009*\"post\" + 0.008*\"think\" + 0.008*\"make\" + 0.008*\"country\" + '\n",
            "  '0.007*\"good\" + 0.007*\"would\"'),\n",
            " (3,\n",
            "  '0.009*\"people\" + 0.009*\"post\" + 0.008*\"automatically\" + 0.008*\"message\" + '\n",
            "  '0.007*\"bangladesh\" + 0.007*\"subreddit\" + 0.007*\"make\" + 0.007*\"country\" + '\n",
            "  '0.007*\"question\" + 0.007*\"would\"'),\n",
            " (4,\n",
            "  '0.010*\"post\" + 0.010*\"bangladesh\" + 0.009*\"people\" + 0.008*\"message\" + '\n",
            "  '0.008*\"make\" + 0.008*\"good\" + 0.007*\"subreddit\" + 0.007*\"would\" + '\n",
            "  '0.007*\"moderator\" + 0.007*\"go\"'),\n",
            " (5,\n",
            "  '0.011*\"bangladesh\" + 0.009*\"message\" + 0.009*\"country\" + 0.009*\"people\" + '\n",
            "  '0.008*\"put\" + 0.008*\"post\" + 0.008*\"subreddit\" + 0.007*\"automatically\" + '\n",
            "  '0.007*\"moderator\" + 0.007*\"think\"'),\n",
            " (6,\n",
            "  '0.011*\"people\" + 0.010*\"bangladesh\" + 0.009*\"post\" + 0.008*\"automatically\" '\n",
            "  '+ 0.008*\"country\" + 0.008*\"perform\" + 0.007*\"moderator\" + 0.007*\"message\" + '\n",
            "  '0.007*\"make\" + 0.007*\"put\"'),\n",
            " (7,\n",
            "  '0.011*\"bangladesh\" + 0.010*\"people\" + 0.008*\"subreddit\" + 0.008*\"message\" + '\n",
            "  '0.008*\"would\" + 0.007*\"go\" + 0.007*\"country\" + 0.007*\"question\" + '\n",
            "  '0.006*\"make\" + 0.006*\"good\"'),\n",
            " (8,\n",
            "  '0.012*\"people\" + 0.009*\"country\" + 0.009*\"go\" + 0.008*\"moderator\" + '\n",
            "  '0.008*\"bangladesh\" + 0.008*\"message\" + 0.007*\"question\" + 0.007*\"would\" + '\n",
            "  '0.007*\"get\" + 0.007*\"think\"'),\n",
            " (9,\n",
            "  '0.010*\"people\" + 0.009*\"message\" + 0.007*\"get\" + 0.007*\"question\" + '\n",
            "  '0.007*\"country\" + 0.007*\"subreddit\" + 0.007*\"post\" + 0.007*\"make\" + '\n",
            "  '0.007*\"go\" + 0.006*\"would\"')]\n"
          ]
        }
      ]
    },
    {
      "cell_type": "code",
      "source": [
        "pprint(lda_model.print_topics())\n",
        "doc_lda = lda_model[corpus]\n",
        "\n",
        "#Show and Save Topics\n",
        "toparray = []\n",
        "\n",
        "for row in range(lda_model.num_topics):\n",
        "    topics = lda_model.show_topic(row)\n",
        "    topic_keywords = \", \".join([word for word, prop in topics])\n",
        "    toparray.append((row + 1, topic_keywords))\n",
        "\n",
        "topdict = dict(toparray)\n",
        "\n",
        "with open('lda.json', 'w') as fp:\n",
        "    json.dump(topdict, fp, sort_keys=True, indent=4)\n",
        "#print(top10array)\n",
        "print(topdict)"
      ],
      "metadata": {
        "colab": {
          "base_uri": "https://localhost:8080/"
        },
        "id": "0QV-2d7a34T_",
        "outputId": "648ed276-838f-41c6-9d4d-47adb190fbab"
      },
      "execution_count": null,
      "outputs": [
        {
          "output_type": "stream",
          "name": "stdout",
          "text": [
            "[(0,\n",
            "  '0.011*\"people\" + 0.009*\"subreddit\" + 0.009*\"country\" + 0.009*\"moderator\" + '\n",
            "  '0.008*\"put\" + 0.007*\"would\" + 0.007*\"make\" + 0.007*\"post\" + '\n",
            "  '0.007*\"automatically\" + 0.007*\"bangladesh\"'),\n",
            " (1,\n",
            "  '0.013*\"people\" + 0.011*\"message\" + 0.009*\"bangladesh\" + 0.009*\"post\" + '\n",
            "  '0.008*\"get\" + 0.007*\"think\" + 0.007*\"subreddit\" + 0.007*\"good\" + '\n",
            "  '0.007*\"would\" + 0.007*\"question\"'),\n",
            " (2,\n",
            "  '0.010*\"people\" + 0.010*\"message\" + 0.010*\"go\" + 0.009*\"bangladesh\" + '\n",
            "  '0.009*\"post\" + 0.008*\"think\" + 0.008*\"make\" + 0.008*\"country\" + '\n",
            "  '0.007*\"good\" + 0.007*\"would\"'),\n",
            " (3,\n",
            "  '0.009*\"people\" + 0.009*\"post\" + 0.008*\"automatically\" + 0.008*\"message\" + '\n",
            "  '0.007*\"bangladesh\" + 0.007*\"subreddit\" + 0.007*\"make\" + 0.007*\"country\" + '\n",
            "  '0.007*\"question\" + 0.007*\"would\"'),\n",
            " (4,\n",
            "  '0.010*\"post\" + 0.010*\"bangladesh\" + 0.009*\"people\" + 0.008*\"message\" + '\n",
            "  '0.008*\"make\" + 0.008*\"good\" + 0.007*\"subreddit\" + 0.007*\"would\" + '\n",
            "  '0.007*\"moderator\" + 0.007*\"go\"'),\n",
            " (5,\n",
            "  '0.011*\"bangladesh\" + 0.009*\"message\" + 0.009*\"country\" + 0.009*\"people\" + '\n",
            "  '0.008*\"put\" + 0.008*\"post\" + 0.008*\"subreddit\" + 0.007*\"automatically\" + '\n",
            "  '0.007*\"moderator\" + 0.007*\"think\"'),\n",
            " (6,\n",
            "  '0.011*\"people\" + 0.010*\"bangladesh\" + 0.009*\"post\" + 0.008*\"automatically\" '\n",
            "  '+ 0.008*\"country\" + 0.008*\"perform\" + 0.007*\"moderator\" + 0.007*\"message\" + '\n",
            "  '0.007*\"make\" + 0.007*\"put\"'),\n",
            " (7,\n",
            "  '0.011*\"bangladesh\" + 0.010*\"people\" + 0.008*\"subreddit\" + 0.008*\"message\" + '\n",
            "  '0.008*\"would\" + 0.007*\"go\" + 0.007*\"country\" + 0.007*\"question\" + '\n",
            "  '0.006*\"make\" + 0.006*\"good\"'),\n",
            " (8,\n",
            "  '0.012*\"people\" + 0.009*\"country\" + 0.009*\"go\" + 0.008*\"moderator\" + '\n",
            "  '0.008*\"bangladesh\" + 0.008*\"message\" + 0.007*\"question\" + 0.007*\"would\" + '\n",
            "  '0.007*\"get\" + 0.007*\"think\"'),\n",
            " (9,\n",
            "  '0.010*\"people\" + 0.009*\"message\" + 0.007*\"get\" + 0.007*\"question\" + '\n",
            "  '0.007*\"country\" + 0.007*\"subreddit\" + 0.007*\"post\" + 0.007*\"make\" + '\n",
            "  '0.007*\"go\" + 0.006*\"would\"')]\n",
            "{1: 'people, subreddit, country, moderator, put, would, make, post, automatically, bangladesh', 2: 'people, message, bangladesh, post, get, think, subreddit, good, would, question', 3: 'people, message, go, bangladesh, post, think, make, country, good, would', 4: 'people, post, automatically, message, bangladesh, subreddit, make, country, question, would', 5: 'post, bangladesh, people, message, make, good, subreddit, would, moderator, go', 6: 'bangladesh, message, country, people, put, post, subreddit, automatically, moderator, think', 7: 'people, bangladesh, post, automatically, country, perform, moderator, message, make, put', 8: 'bangladesh, people, subreddit, message, would, go, country, question, make, good', 9: 'people, country, go, moderator, bangladesh, message, question, would, get, think', 10: 'people, message, get, question, country, subreddit, post, make, go, would'}\n"
          ]
        }
      ]
    },
    {
      "cell_type": "code",
      "source": [
        ""
      ],
      "metadata": {
        "id": "nqY187fm3_n_"
      },
      "execution_count": null,
      "outputs": []
    }
  ]
}